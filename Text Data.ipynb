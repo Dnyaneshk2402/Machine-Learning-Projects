{
 "cells": [
  {
   "cell_type": "code",
   "execution_count": 4,
   "id": "12232b88",
   "metadata": {
    "ExecuteTime": {
     "end_time": "2022-09-25T10:47:32.370635Z",
     "start_time": "2022-09-25T10:47:32.108641Z"
    }
   },
   "outputs": [],
   "source": [
    "import numpy as np\n",
    "import pandas as pd\n",
    "import os\n",
    "from tqdm import tqdm\n",
    "from IPython.core.interactiveshell import InteractiveShell\n",
    "InteractiveShell.ast_node_interactivity = 'all'"
   ]
  },
  {
   "cell_type": "code",
   "execution_count": 5,
   "id": "0ae313f4",
   "metadata": {
    "ExecuteTime": {
     "end_time": "2022-09-25T10:47:32.554281Z",
     "start_time": "2022-09-25T10:47:32.542199Z"
    }
   },
   "outputs": [],
   "source": [
    "tqdm.pandas()"
   ]
  },
  {
   "cell_type": "code",
   "execution_count": 7,
   "id": "55d868d9",
   "metadata": {
    "ExecuteTime": {
     "end_time": "2022-09-25T10:48:46.990345Z",
     "start_time": "2022-09-25T10:47:42.943707Z"
    }
   },
   "outputs": [
    {
     "name": "stderr",
     "output_type": "stream",
     "text": [
      "100%|████████████████████████████████████████████████████████████████████████| 568454/568454 [01:04<00:00, 8881.55it/s]"
     ]
    },
    {
     "name": "stdout",
     "output_type": "stream",
     "text": [
      "CPU times: total: 1min 3s\n",
      "Wall time: 1min 4s\n"
     ]
    },
    {
     "name": "stderr",
     "output_type": "stream",
     "text": [
      "\n"
     ]
    }
   ],
   "source": [
    "%%time\n",
    "\n",
    "ProductId=[]\n",
    "UserId=[]\n",
    "ProfileName=[]\n",
    "HelpfulnessNumerator=[]\n",
    "HelpfulnessDenominator=[]\n",
    "Score=[]\n",
    "Time=[]\n",
    "ReviewSummary=[]\n",
    "ReviewText=[]\n",
    "for i in tqdm(range(1,568455)):\n",
    "    with open(r'C:\\Users\\HP\\Datasets\\txt_reviews/review_{}.txt'.format(i),'r',encoding='utf8') as f:\n",
    "        s=np.array(f.readlines())\n",
    "        ProductId.append(s[0].split(':')[1].strip())\n",
    "        UserId.append(s[1].split(':')[1].strip())\n",
    "        ProfileName.append(s[2].split(':')[1].strip()) \n",
    "        HelpfulnessNumerator.append(s[3].split(':')[1].strip())\n",
    "        HelpfulnessDenominator.append(s[4].split(':')[1].strip())\n",
    "        Score.append(s[5].split(':')[1].strip())\n",
    "        Time.append(s[6].split(':')[1].strip())\n",
    "        ReviewSummary.append(s[7].split(':')[1].strip())\n",
    "        ReviewText.append(s[8].split(':')[1].strip())"
   ]
  },
  {
   "cell_type": "code",
   "execution_count": 8,
   "id": "c430a92b",
   "metadata": {
    "ExecuteTime": {
     "end_time": "2022-09-25T10:48:51.751662Z",
     "start_time": "2022-09-25T10:48:51.348850Z"
    }
   },
   "outputs": [],
   "source": [
    "df = pd.DataFrame({'ProductId':ProductId,'UserId':UserId,'ProfileName':ProfileName,\n",
    "                   'HelpfulnessNumerator':HelpfulnessNumerator,\n",
    "                   'HelpfulnessDenominator':HelpfulnessDenominator,\n",
    "                   'Time':Time,'ReviewSummary':ReviewSummary,'ReviewText':ReviewText,\n",
    "                   'Score':Score\n",
    "                  })"
   ]
  },
  {
   "cell_type": "code",
   "execution_count": 9,
   "id": "fc173b8a",
   "metadata": {
    "ExecuteTime": {
     "end_time": "2022-09-25T10:48:51.848712Z",
     "start_time": "2022-09-25T10:48:51.824418Z"
    }
   },
   "outputs": [
    {
     "data": {
      "text/html": [
       "<div>\n",
       "<style scoped>\n",
       "    .dataframe tbody tr th:only-of-type {\n",
       "        vertical-align: middle;\n",
       "    }\n",
       "\n",
       "    .dataframe tbody tr th {\n",
       "        vertical-align: top;\n",
       "    }\n",
       "\n",
       "    .dataframe thead th {\n",
       "        text-align: right;\n",
       "    }\n",
       "</style>\n",
       "<table border=\"1\" class=\"dataframe\">\n",
       "  <thead>\n",
       "    <tr style=\"text-align: right;\">\n",
       "      <th></th>\n",
       "      <th>ProductId</th>\n",
       "      <th>UserId</th>\n",
       "      <th>ProfileName</th>\n",
       "      <th>HelpfulnessNumerator</th>\n",
       "      <th>HelpfulnessDenominator</th>\n",
       "      <th>Time</th>\n",
       "      <th>ReviewSummary</th>\n",
       "      <th>ReviewText</th>\n",
       "      <th>Score</th>\n",
       "    </tr>\n",
       "  </thead>\n",
       "  <tbody>\n",
       "    <tr>\n",
       "      <th>0</th>\n",
       "      <td>B001E4KFG0</td>\n",
       "      <td>A3SGXH7AUHU8GW</td>\n",
       "      <td>delmartian</td>\n",
       "      <td>1</td>\n",
       "      <td>1</td>\n",
       "      <td>1303862400</td>\n",
       "      <td>Good Quality Dog Food</td>\n",
       "      <td>I have bought several of the Vitality canned d...</td>\n",
       "      <td>5</td>\n",
       "    </tr>\n",
       "    <tr>\n",
       "      <th>1</th>\n",
       "      <td>B00813GRG4</td>\n",
       "      <td>A1D87F6ZCVE5NK</td>\n",
       "      <td>dll pa</td>\n",
       "      <td>0</td>\n",
       "      <td>0</td>\n",
       "      <td>1346976000</td>\n",
       "      <td>Not as Advertised</td>\n",
       "      <td>Product arrived labeled as Jumbo Salted Peanut...</td>\n",
       "      <td>1</td>\n",
       "    </tr>\n",
       "    <tr>\n",
       "      <th>2</th>\n",
       "      <td>B000LQOCH0</td>\n",
       "      <td>ABXLMWJIXXAIN</td>\n",
       "      <td>Natalia Corres \"Natalia Corres\"</td>\n",
       "      <td>1</td>\n",
       "      <td>1</td>\n",
       "      <td>1219017600</td>\n",
       "      <td>\"Delight\" says it all</td>\n",
       "      <td>This is a confection that has been around a fe...</td>\n",
       "      <td>4</td>\n",
       "    </tr>\n",
       "    <tr>\n",
       "      <th>3</th>\n",
       "      <td>B000UA0QIQ</td>\n",
       "      <td>A395BORC6FGVXV</td>\n",
       "      <td>Karl</td>\n",
       "      <td>3</td>\n",
       "      <td>3</td>\n",
       "      <td>1307923200</td>\n",
       "      <td>Cough Medicine</td>\n",
       "      <td>If you are looking for the secret ingredient i...</td>\n",
       "      <td>2</td>\n",
       "    </tr>\n",
       "    <tr>\n",
       "      <th>4</th>\n",
       "      <td>B006K2ZZ7K</td>\n",
       "      <td>A1UQRSCLF8GW1T</td>\n",
       "      <td>Michael D. Bigham \"M. Wassir\"</td>\n",
       "      <td>0</td>\n",
       "      <td>0</td>\n",
       "      <td>1350777600</td>\n",
       "      <td>Great taffy</td>\n",
       "      <td>Great taffy at a great price.  There was a wid...</td>\n",
       "      <td>5</td>\n",
       "    </tr>\n",
       "    <tr>\n",
       "      <th>...</th>\n",
       "      <td>...</td>\n",
       "      <td>...</td>\n",
       "      <td>...</td>\n",
       "      <td>...</td>\n",
       "      <td>...</td>\n",
       "      <td>...</td>\n",
       "      <td>...</td>\n",
       "      <td>...</td>\n",
       "      <td>...</td>\n",
       "    </tr>\n",
       "    <tr>\n",
       "      <th>568449</th>\n",
       "      <td>B001EO7N10</td>\n",
       "      <td>A28KG5XORO54AY</td>\n",
       "      <td>Lettie D. Carter</td>\n",
       "      <td>0</td>\n",
       "      <td>0</td>\n",
       "      <td>1299628800</td>\n",
       "      <td>Will not do without</td>\n",
       "      <td>Great for sesame chicken..this is a good if no...</td>\n",
       "      <td>5</td>\n",
       "    </tr>\n",
       "    <tr>\n",
       "      <th>568450</th>\n",
       "      <td>B003S1WTCU</td>\n",
       "      <td>A3I8AFVPEE8KI5</td>\n",
       "      <td>R. Sawyer</td>\n",
       "      <td>0</td>\n",
       "      <td>0</td>\n",
       "      <td>1331251200</td>\n",
       "      <td>disappointed</td>\n",
       "      <td>I'm disappointed with the flavor. The chocolat...</td>\n",
       "      <td>2</td>\n",
       "    </tr>\n",
       "    <tr>\n",
       "      <th>568451</th>\n",
       "      <td>B004I613EE</td>\n",
       "      <td>A121AA1GQV751Z</td>\n",
       "      <td>pksd \"pk_007\"</td>\n",
       "      <td>2</td>\n",
       "      <td>2</td>\n",
       "      <td>1329782400</td>\n",
       "      <td>Perfect for our maltipoo</td>\n",
       "      <td>These stars are small, so you can give 10-15 o...</td>\n",
       "      <td>5</td>\n",
       "    </tr>\n",
       "    <tr>\n",
       "      <th>568452</th>\n",
       "      <td>B004I613EE</td>\n",
       "      <td>A3IBEVCTXKNOH</td>\n",
       "      <td>Kathy A. Welch \"katwel\"</td>\n",
       "      <td>1</td>\n",
       "      <td>1</td>\n",
       "      <td>1331596800</td>\n",
       "      <td>Favorite Training and reward treat</td>\n",
       "      <td>These are the BEST treats for training and rew...</td>\n",
       "      <td>5</td>\n",
       "    </tr>\n",
       "    <tr>\n",
       "      <th>568453</th>\n",
       "      <td>B001LR2CU2</td>\n",
       "      <td>A3LGQPJCZVL9UC</td>\n",
       "      <td>srfell17</td>\n",
       "      <td>0</td>\n",
       "      <td>0</td>\n",
       "      <td>1338422400</td>\n",
       "      <td>Great Honey</td>\n",
       "      <td>I am very satisfied ,product is as advertised,...</td>\n",
       "      <td>5</td>\n",
       "    </tr>\n",
       "  </tbody>\n",
       "</table>\n",
       "<p>568454 rows × 9 columns</p>\n",
       "</div>"
      ],
      "text/plain": [
       "         ProductId          UserId                      ProfileName  \\\n",
       "0       B001E4KFG0  A3SGXH7AUHU8GW                       delmartian   \n",
       "1       B00813GRG4  A1D87F6ZCVE5NK                           dll pa   \n",
       "2       B000LQOCH0   ABXLMWJIXXAIN  Natalia Corres \"Natalia Corres\"   \n",
       "3       B000UA0QIQ  A395BORC6FGVXV                             Karl   \n",
       "4       B006K2ZZ7K  A1UQRSCLF8GW1T    Michael D. Bigham \"M. Wassir\"   \n",
       "...            ...             ...                              ...   \n",
       "568449  B001EO7N10  A28KG5XORO54AY                 Lettie D. Carter   \n",
       "568450  B003S1WTCU  A3I8AFVPEE8KI5                        R. Sawyer   \n",
       "568451  B004I613EE  A121AA1GQV751Z                    pksd \"pk_007\"   \n",
       "568452  B004I613EE   A3IBEVCTXKNOH          Kathy A. Welch \"katwel\"   \n",
       "568453  B001LR2CU2  A3LGQPJCZVL9UC                         srfell17   \n",
       "\n",
       "       HelpfulnessNumerator HelpfulnessDenominator        Time  \\\n",
       "0                         1                      1  1303862400   \n",
       "1                         0                      0  1346976000   \n",
       "2                         1                      1  1219017600   \n",
       "3                         3                      3  1307923200   \n",
       "4                         0                      0  1350777600   \n",
       "...                     ...                    ...         ...   \n",
       "568449                    0                      0  1299628800   \n",
       "568450                    0                      0  1331251200   \n",
       "568451                    2                      2  1329782400   \n",
       "568452                    1                      1  1331596800   \n",
       "568453                    0                      0  1338422400   \n",
       "\n",
       "                             ReviewSummary  \\\n",
       "0                    Good Quality Dog Food   \n",
       "1                        Not as Advertised   \n",
       "2                    \"Delight\" says it all   \n",
       "3                           Cough Medicine   \n",
       "4                              Great taffy   \n",
       "...                                    ...   \n",
       "568449                 Will not do without   \n",
       "568450                        disappointed   \n",
       "568451            Perfect for our maltipoo   \n",
       "568452  Favorite Training and reward treat   \n",
       "568453                         Great Honey   \n",
       "\n",
       "                                               ReviewText Score  \n",
       "0       I have bought several of the Vitality canned d...     5  \n",
       "1       Product arrived labeled as Jumbo Salted Peanut...     1  \n",
       "2       This is a confection that has been around a fe...     4  \n",
       "3       If you are looking for the secret ingredient i...     2  \n",
       "4       Great taffy at a great price.  There was a wid...     5  \n",
       "...                                                   ...   ...  \n",
       "568449  Great for sesame chicken..this is a good if no...     5  \n",
       "568450  I'm disappointed with the flavor. The chocolat...     2  \n",
       "568451  These stars are small, so you can give 10-15 o...     5  \n",
       "568452  These are the BEST treats for training and rew...     5  \n",
       "568453  I am very satisfied ,product is as advertised,...     5  \n",
       "\n",
       "[568454 rows x 9 columns]"
      ]
     },
     "execution_count": 9,
     "metadata": {},
     "output_type": "execute_result"
    }
   ],
   "source": [
    "df"
   ]
  },
  {
   "cell_type": "code",
   "execution_count": 10,
   "id": "26088a5e",
   "metadata": {
    "ExecuteTime": {
     "end_time": "2022-09-25T10:48:56.804523Z",
     "start_time": "2022-09-25T10:48:52.241896Z"
    }
   },
   "outputs": [],
   "source": [
    "df.to_csv(r'C:\\Users\\HP\\Datasets\\amazon_food_reviews.csv',index=False)"
   ]
  },
  {
   "cell_type": "code",
   "execution_count": 11,
   "id": "ad2c2909",
   "metadata": {
    "ExecuteTime": {
     "end_time": "2022-09-25T10:48:59.268341Z",
     "start_time": "2022-09-25T10:48:56.804523Z"
    }
   },
   "outputs": [],
   "source": [
    "df = pd.read_csv(r'C:\\Users\\HP\\Datasets\\amazon_food_reviews.csv')"
   ]
  },
  {
   "cell_type": "code",
   "execution_count": 12,
   "id": "4adda7ba",
   "metadata": {
    "ExecuteTime": {
     "end_time": "2022-09-25T10:48:59.289482Z",
     "start_time": "2022-09-25T10:48:59.268341Z"
    }
   },
   "outputs": [
    {
     "data": {
      "text/html": [
       "<div>\n",
       "<style scoped>\n",
       "    .dataframe tbody tr th:only-of-type {\n",
       "        vertical-align: middle;\n",
       "    }\n",
       "\n",
       "    .dataframe tbody tr th {\n",
       "        vertical-align: top;\n",
       "    }\n",
       "\n",
       "    .dataframe thead th {\n",
       "        text-align: right;\n",
       "    }\n",
       "</style>\n",
       "<table border=\"1\" class=\"dataframe\">\n",
       "  <thead>\n",
       "    <tr style=\"text-align: right;\">\n",
       "      <th></th>\n",
       "      <th>ProductId</th>\n",
       "      <th>UserId</th>\n",
       "      <th>ProfileName</th>\n",
       "      <th>HelpfulnessNumerator</th>\n",
       "      <th>HelpfulnessDenominator</th>\n",
       "      <th>Time</th>\n",
       "      <th>ReviewSummary</th>\n",
       "      <th>ReviewText</th>\n",
       "      <th>Score</th>\n",
       "    </tr>\n",
       "  </thead>\n",
       "  <tbody>\n",
       "    <tr>\n",
       "      <th>0</th>\n",
       "      <td>B001E4KFG0</td>\n",
       "      <td>A3SGXH7AUHU8GW</td>\n",
       "      <td>delmartian</td>\n",
       "      <td>1</td>\n",
       "      <td>1</td>\n",
       "      <td>1303862400</td>\n",
       "      <td>Good Quality Dog Food</td>\n",
       "      <td>I have bought several of the Vitality canned d...</td>\n",
       "      <td>5</td>\n",
       "    </tr>\n",
       "    <tr>\n",
       "      <th>1</th>\n",
       "      <td>B00813GRG4</td>\n",
       "      <td>A1D87F6ZCVE5NK</td>\n",
       "      <td>dll pa</td>\n",
       "      <td>0</td>\n",
       "      <td>0</td>\n",
       "      <td>1346976000</td>\n",
       "      <td>Not as Advertised</td>\n",
       "      <td>Product arrived labeled as Jumbo Salted Peanut...</td>\n",
       "      <td>1</td>\n",
       "    </tr>\n",
       "    <tr>\n",
       "      <th>2</th>\n",
       "      <td>B000LQOCH0</td>\n",
       "      <td>ABXLMWJIXXAIN</td>\n",
       "      <td>Natalia Corres \"Natalia Corres\"</td>\n",
       "      <td>1</td>\n",
       "      <td>1</td>\n",
       "      <td>1219017600</td>\n",
       "      <td>\"Delight\" says it all</td>\n",
       "      <td>This is a confection that has been around a fe...</td>\n",
       "      <td>4</td>\n",
       "    </tr>\n",
       "    <tr>\n",
       "      <th>3</th>\n",
       "      <td>B000UA0QIQ</td>\n",
       "      <td>A395BORC6FGVXV</td>\n",
       "      <td>Karl</td>\n",
       "      <td>3</td>\n",
       "      <td>3</td>\n",
       "      <td>1307923200</td>\n",
       "      <td>Cough Medicine</td>\n",
       "      <td>If you are looking for the secret ingredient i...</td>\n",
       "      <td>2</td>\n",
       "    </tr>\n",
       "    <tr>\n",
       "      <th>4</th>\n",
       "      <td>B006K2ZZ7K</td>\n",
       "      <td>A1UQRSCLF8GW1T</td>\n",
       "      <td>Michael D. Bigham \"M. Wassir\"</td>\n",
       "      <td>0</td>\n",
       "      <td>0</td>\n",
       "      <td>1350777600</td>\n",
       "      <td>Great taffy</td>\n",
       "      <td>Great taffy at a great price.  There was a wid...</td>\n",
       "      <td>5</td>\n",
       "    </tr>\n",
       "    <tr>\n",
       "      <th>...</th>\n",
       "      <td>...</td>\n",
       "      <td>...</td>\n",
       "      <td>...</td>\n",
       "      <td>...</td>\n",
       "      <td>...</td>\n",
       "      <td>...</td>\n",
       "      <td>...</td>\n",
       "      <td>...</td>\n",
       "      <td>...</td>\n",
       "    </tr>\n",
       "    <tr>\n",
       "      <th>568449</th>\n",
       "      <td>B001EO7N10</td>\n",
       "      <td>A28KG5XORO54AY</td>\n",
       "      <td>Lettie D. Carter</td>\n",
       "      <td>0</td>\n",
       "      <td>0</td>\n",
       "      <td>1299628800</td>\n",
       "      <td>Will not do without</td>\n",
       "      <td>Great for sesame chicken..this is a good if no...</td>\n",
       "      <td>5</td>\n",
       "    </tr>\n",
       "    <tr>\n",
       "      <th>568450</th>\n",
       "      <td>B003S1WTCU</td>\n",
       "      <td>A3I8AFVPEE8KI5</td>\n",
       "      <td>R. Sawyer</td>\n",
       "      <td>0</td>\n",
       "      <td>0</td>\n",
       "      <td>1331251200</td>\n",
       "      <td>disappointed</td>\n",
       "      <td>I'm disappointed with the flavor. The chocolat...</td>\n",
       "      <td>2</td>\n",
       "    </tr>\n",
       "    <tr>\n",
       "      <th>568451</th>\n",
       "      <td>B004I613EE</td>\n",
       "      <td>A121AA1GQV751Z</td>\n",
       "      <td>pksd \"pk_007\"</td>\n",
       "      <td>2</td>\n",
       "      <td>2</td>\n",
       "      <td>1329782400</td>\n",
       "      <td>Perfect for our maltipoo</td>\n",
       "      <td>These stars are small, so you can give 10-15 o...</td>\n",
       "      <td>5</td>\n",
       "    </tr>\n",
       "    <tr>\n",
       "      <th>568452</th>\n",
       "      <td>B004I613EE</td>\n",
       "      <td>A3IBEVCTXKNOH</td>\n",
       "      <td>Kathy A. Welch \"katwel\"</td>\n",
       "      <td>1</td>\n",
       "      <td>1</td>\n",
       "      <td>1331596800</td>\n",
       "      <td>Favorite Training and reward treat</td>\n",
       "      <td>These are the BEST treats for training and rew...</td>\n",
       "      <td>5</td>\n",
       "    </tr>\n",
       "    <tr>\n",
       "      <th>568453</th>\n",
       "      <td>B001LR2CU2</td>\n",
       "      <td>A3LGQPJCZVL9UC</td>\n",
       "      <td>srfell17</td>\n",
       "      <td>0</td>\n",
       "      <td>0</td>\n",
       "      <td>1338422400</td>\n",
       "      <td>Great Honey</td>\n",
       "      <td>I am very satisfied ,product is as advertised,...</td>\n",
       "      <td>5</td>\n",
       "    </tr>\n",
       "  </tbody>\n",
       "</table>\n",
       "<p>568454 rows × 9 columns</p>\n",
       "</div>"
      ],
      "text/plain": [
       "         ProductId          UserId                      ProfileName  \\\n",
       "0       B001E4KFG0  A3SGXH7AUHU8GW                       delmartian   \n",
       "1       B00813GRG4  A1D87F6ZCVE5NK                           dll pa   \n",
       "2       B000LQOCH0   ABXLMWJIXXAIN  Natalia Corres \"Natalia Corres\"   \n",
       "3       B000UA0QIQ  A395BORC6FGVXV                             Karl   \n",
       "4       B006K2ZZ7K  A1UQRSCLF8GW1T    Michael D. Bigham \"M. Wassir\"   \n",
       "...            ...             ...                              ...   \n",
       "568449  B001EO7N10  A28KG5XORO54AY                 Lettie D. Carter   \n",
       "568450  B003S1WTCU  A3I8AFVPEE8KI5                        R. Sawyer   \n",
       "568451  B004I613EE  A121AA1GQV751Z                    pksd \"pk_007\"   \n",
       "568452  B004I613EE   A3IBEVCTXKNOH          Kathy A. Welch \"katwel\"   \n",
       "568453  B001LR2CU2  A3LGQPJCZVL9UC                         srfell17   \n",
       "\n",
       "        HelpfulnessNumerator  HelpfulnessDenominator        Time  \\\n",
       "0                          1                       1  1303862400   \n",
       "1                          0                       0  1346976000   \n",
       "2                          1                       1  1219017600   \n",
       "3                          3                       3  1307923200   \n",
       "4                          0                       0  1350777600   \n",
       "...                      ...                     ...         ...   \n",
       "568449                     0                       0  1299628800   \n",
       "568450                     0                       0  1331251200   \n",
       "568451                     2                       2  1329782400   \n",
       "568452                     1                       1  1331596800   \n",
       "568453                     0                       0  1338422400   \n",
       "\n",
       "                             ReviewSummary  \\\n",
       "0                    Good Quality Dog Food   \n",
       "1                        Not as Advertised   \n",
       "2                    \"Delight\" says it all   \n",
       "3                           Cough Medicine   \n",
       "4                              Great taffy   \n",
       "...                                    ...   \n",
       "568449                 Will not do without   \n",
       "568450                        disappointed   \n",
       "568451            Perfect for our maltipoo   \n",
       "568452  Favorite Training and reward treat   \n",
       "568453                         Great Honey   \n",
       "\n",
       "                                               ReviewText  Score  \n",
       "0       I have bought several of the Vitality canned d...      5  \n",
       "1       Product arrived labeled as Jumbo Salted Peanut...      1  \n",
       "2       This is a confection that has been around a fe...      4  \n",
       "3       If you are looking for the secret ingredient i...      2  \n",
       "4       Great taffy at a great price.  There was a wid...      5  \n",
       "...                                                   ...    ...  \n",
       "568449  Great for sesame chicken..this is a good if no...      5  \n",
       "568450  I'm disappointed with the flavor. The chocolat...      2  \n",
       "568451  These stars are small, so you can give 10-15 o...      5  \n",
       "568452  These are the BEST treats for training and rew...      5  \n",
       "568453  I am very satisfied ,product is as advertised,...      5  \n",
       "\n",
       "[568454 rows x 9 columns]"
      ]
     },
     "execution_count": 12,
     "metadata": {},
     "output_type": "execute_result"
    }
   ],
   "source": [
    "df"
   ]
  },
  {
   "cell_type": "code",
   "execution_count": 13,
   "id": "209861dd",
   "metadata": {
    "ExecuteTime": {
     "end_time": "2022-09-25T10:49:06.626381Z",
     "start_time": "2022-09-25T10:48:59.291714Z"
    }
   },
   "outputs": [
    {
     "name": "stdout",
     "output_type": "stream",
     "text": [
      "Requirement already satisfied: nltk in c:\\users\\hp\\anaconda3\\lib\\site-packages (3.7)\n",
      "Requirement already satisfied: tqdm in c:\\users\\hp\\anaconda3\\lib\\site-packages (from nltk) (4.64.0)\n",
      "Requirement already satisfied: regex>=2021.8.3 in c:\\users\\hp\\anaconda3\\lib\\site-packages (from nltk) (2022.7.9)\n",
      "Requirement already satisfied: click in c:\\users\\hp\\anaconda3\\lib\\site-packages (from nltk) (8.0.4)\n",
      "Requirement already satisfied: joblib in c:\\users\\hp\\anaconda3\\lib\\site-packages (from nltk) (1.1.0)\n",
      "Requirement already satisfied: colorama in c:\\users\\hp\\anaconda3\\lib\\site-packages (from click->nltk) (0.4.5)\n"
     ]
    }
   ],
   "source": [
    "!pip install nltk"
   ]
  },
  {
   "cell_type": "code",
   "execution_count": 92,
   "id": "db11ad5e",
   "metadata": {
    "ExecuteTime": {
     "end_time": "2022-09-25T12:07:20.986880Z",
     "start_time": "2022-09-25T12:07:19.193430Z"
    }
   },
   "outputs": [
    {
     "name": "stderr",
     "output_type": "stream",
     "text": [
      "[nltk_data] Downloading package stopwords to\n",
      "[nltk_data]     C:\\Users\\HP\\AppData\\Roaming\\nltk_data...\n",
      "[nltk_data]   Package stopwords is already up-to-date!\n"
     ]
    },
    {
     "data": {
      "text/plain": [
       "True"
      ]
     },
     "execution_count": 92,
     "metadata": {},
     "output_type": "execute_result"
    },
    {
     "name": "stderr",
     "output_type": "stream",
     "text": [
      "[nltk_data] Downloading package wordnet to\n",
      "[nltk_data]     C:\\Users\\HP\\AppData\\Roaming\\nltk_data...\n",
      "[nltk_data]   Package wordnet is already up-to-date!\n"
     ]
    },
    {
     "data": {
      "text/plain": [
       "True"
      ]
     },
     "execution_count": 92,
     "metadata": {},
     "output_type": "execute_result"
    },
    {
     "name": "stderr",
     "output_type": "stream",
     "text": [
      "[nltk_data] Downloading package omw-1.4 to\n",
      "[nltk_data]     C:\\Users\\HP\\AppData\\Roaming\\nltk_data...\n"
     ]
    },
    {
     "data": {
      "text/plain": [
       "True"
      ]
     },
     "execution_count": 92,
     "metadata": {},
     "output_type": "execute_result"
    }
   ],
   "source": [
    "import nltk\n",
    "nltk.download('stopwords')\n",
    "# Downloading wordnet before applying Lemmatizer\n",
    "nltk.download('wordnet')\n",
    "nltk.download('omw-1.4')"
   ]
  },
  {
   "cell_type": "code",
   "execution_count": 100,
   "id": "1be9a1d9",
   "metadata": {
    "ExecuteTime": {
     "end_time": "2022-09-25T12:29:42.137498Z",
     "start_time": "2022-09-25T12:29:17.391370Z"
    }
   },
   "outputs": [
    {
     "name": "stdout",
     "output_type": "stream",
     "text": [
      "Collecting textblob\n",
      "  Downloading textblob-0.17.1-py2.py3-none-any.whl (636 kB)\n",
      "     -------------------------------------- 636.8/636.8 kB 2.1 MB/s eta 0:00:00\n",
      "Requirement already satisfied: nltk>=3.1 in c:\\users\\hp\\anaconda3\\lib\\site-packages (from textblob) (3.7)\n",
      "Requirement already satisfied: regex>=2021.8.3 in c:\\users\\hp\\anaconda3\\lib\\site-packages (from nltk>=3.1->textblob) (2022.7.9)\n",
      "Requirement already satisfied: joblib in c:\\users\\hp\\anaconda3\\lib\\site-packages (from nltk>=3.1->textblob) (1.1.0)\n",
      "Requirement already satisfied: tqdm in c:\\users\\hp\\anaconda3\\lib\\site-packages (from nltk>=3.1->textblob) (4.64.0)\n",
      "Requirement already satisfied: click in c:\\users\\hp\\anaconda3\\lib\\site-packages (from nltk>=3.1->textblob) (8.0.4)\n",
      "Requirement already satisfied: colorama in c:\\users\\hp\\anaconda3\\lib\\site-packages (from click->nltk>=3.1->textblob) (0.4.5)\n",
      "Installing collected packages: textblob\n",
      "Successfully installed textblob-0.17.1\n",
      "Finished.\n"
     ]
    },
    {
     "name": "stderr",
     "output_type": "stream",
     "text": [
      "[nltk_data] Downloading package brown to\n",
      "[nltk_data]     C:\\Users\\HP\\AppData\\Roaming\\nltk_data...\n",
      "[nltk_data]   Unzipping corpora\\brown.zip.\n",
      "[nltk_data] Downloading package punkt to\n",
      "[nltk_data]     C:\\Users\\HP\\AppData\\Roaming\\nltk_data...\n",
      "[nltk_data]   Unzipping tokenizers\\punkt.zip.\n",
      "[nltk_data] Downloading package wordnet to\n",
      "[nltk_data]     C:\\Users\\HP\\AppData\\Roaming\\nltk_data...\n",
      "[nltk_data]   Package wordnet is already up-to-date!\n",
      "[nltk_data] Downloading package averaged_perceptron_tagger to\n",
      "[nltk_data]     C:\\Users\\HP\\AppData\\Roaming\\nltk_data...\n",
      "[nltk_data]   Unzipping taggers\\averaged_perceptron_tagger.zip.\n",
      "[nltk_data] Downloading package conll2000 to\n",
      "[nltk_data]     C:\\Users\\HP\\AppData\\Roaming\\nltk_data...\n",
      "[nltk_data]   Unzipping corpora\\conll2000.zip.\n",
      "[nltk_data] Downloading package movie_reviews to\n",
      "[nltk_data]     C:\\Users\\HP\\AppData\\Roaming\\nltk_data...\n",
      "[nltk_data]   Unzipping corpora\\movie_reviews.zip.\n"
     ]
    }
   ],
   "source": [
    "!pip install -U textblob\n",
    "!python -m textblob.download_corpora"
   ]
  },
  {
   "cell_type": "code",
   "execution_count": 101,
   "id": "c5c5cd1a",
   "metadata": {
    "ExecuteTime": {
     "end_time": "2022-09-25T12:29:48.360724Z",
     "start_time": "2022-09-25T12:29:48.316798Z"
    }
   },
   "outputs": [],
   "source": [
    "import re\n",
    "import nltk\n",
    "from nltk.tokenize import word_tokenize\n",
    "from nltk.corpus import stopwords\n",
    "from nltk.stem.porter import PorterStemmer\n",
    "from nltk.stem import WordNetLemmatizer\n",
    "from textblob import TextBlob"
   ]
  },
  {
   "cell_type": "code",
   "execution_count": 16,
   "id": "f9fb7b6b",
   "metadata": {
    "ExecuteTime": {
     "end_time": "2022-09-25T10:49:07.550400Z",
     "start_time": "2022-09-25T10:49:07.539981Z"
    }
   },
   "outputs": [],
   "source": [
    "## initialise the inbuilt Stemmer\n",
    "stemmer = PorterStemmer()"
   ]
  },
  {
   "cell_type": "code",
   "execution_count": 94,
   "id": "979cac3d",
   "metadata": {
    "ExecuteTime": {
     "end_time": "2022-09-25T12:21:05.925078Z",
     "start_time": "2022-09-25T12:21:05.918102Z"
    }
   },
   "outputs": [],
   "source": [
    "## We can also use Lemmatizer instead of Stemmer\n",
    "lemmatizer = WordNetLemmatizer()\n",
    "\n",
    "\n",
    "\n",
    "def lematizer(text, lematizer=lemmatizer):\n",
    "    text = ' '.join([lematizer.lemmatize(word) for word in text.split()])\n",
    "    return text"
   ]
  },
  {
   "cell_type": "code",
   "execution_count": 105,
   "id": "fddf9732",
   "metadata": {
    "ExecuteTime": {
     "end_time": "2022-09-25T12:48:57.862604Z",
     "start_time": "2022-09-25T12:48:57.847525Z"
    }
   },
   "outputs": [],
   "source": [
    "def remove_stopwords(text, is_lower_case=False, stopwords=None):\n",
    "    if not stopwords:\n",
    "        stopwords = nltk.corpus.stopwords.words('english')\n",
    "    tokens = nltk.word_tokenize(text)\n",
    "    tokens = [token.strip() for token in tokens]\n",
    "\n",
    "    if is_lower_case:\n",
    "        filtered_tokens = [token for token in tokens if token not in stopwords]\n",
    "    else:\n",
    "        filtered_tokens = [token for token in tokens if token.lower() not in stopwords]\n",
    "\n",
    "    filtered_text = ' '.join(filtered_tokens)\n",
    "    return filtered_text"
   ]
  },
  {
   "cell_type": "code",
   "execution_count": 18,
   "id": "ff9b9b4a",
   "metadata": {
    "ExecuteTime": {
     "end_time": "2022-09-25T10:49:07.896163Z",
     "start_time": "2022-09-25T10:49:07.564045Z"
    }
   },
   "outputs": [
    {
     "name": "stdout",
     "output_type": "stream",
     "text": [
      "<class 'pandas.core.frame.DataFrame'>\n",
      "RangeIndex: 568454 entries, 0 to 568453\n",
      "Data columns (total 9 columns):\n",
      " #   Column                  Non-Null Count   Dtype \n",
      "---  ------                  --------------   ----- \n",
      " 0   ProductId               568454 non-null  object\n",
      " 1   UserId                  568454 non-null  object\n",
      " 2   ProfileName             568414 non-null  object\n",
      " 3   HelpfulnessNumerator    568454 non-null  int64 \n",
      " 4   HelpfulnessDenominator  568454 non-null  int64 \n",
      " 5   Time                    568454 non-null  int64 \n",
      " 6   ReviewSummary           568379 non-null  object\n",
      " 7   ReviewText              568437 non-null  object\n",
      " 8   Score                   568454 non-null  int64 \n",
      "dtypes: int64(4), object(5)\n",
      "memory usage: 39.0+ MB\n"
     ]
    }
   ],
   "source": [
    "df.info()"
   ]
  },
  {
   "cell_type": "code",
   "execution_count": 19,
   "id": "38d384c1",
   "metadata": {
    "ExecuteTime": {
     "end_time": "2022-09-25T10:49:08.195979Z",
     "start_time": "2022-09-25T10:49:07.896858Z"
    }
   },
   "outputs": [
    {
     "data": {
      "text/plain": [
       "ProductId                  0\n",
       "UserId                     0\n",
       "ProfileName               40\n",
       "HelpfulnessNumerator       0\n",
       "HelpfulnessDenominator     0\n",
       "Time                       0\n",
       "ReviewSummary             75\n",
       "ReviewText                17\n",
       "Score                      0\n",
       "dtype: int64"
      ]
     },
     "execution_count": 19,
     "metadata": {},
     "output_type": "execute_result"
    }
   ],
   "source": [
    "df.isnull().sum()"
   ]
  },
  {
   "cell_type": "code",
   "execution_count": 37,
   "id": "782a9e9f",
   "metadata": {
    "ExecuteTime": {
     "end_time": "2022-09-25T11:19:15.971388Z",
     "start_time": "2022-09-25T11:19:15.691283Z"
    }
   },
   "outputs": [],
   "source": [
    "df.dropna(inplace=True)"
   ]
  },
  {
   "cell_type": "code",
   "execution_count": 38,
   "id": "53b98c8a",
   "metadata": {
    "ExecuteTime": {
     "end_time": "2022-09-25T11:19:19.263470Z",
     "start_time": "2022-09-25T11:19:19.243655Z"
    }
   },
   "outputs": [
    {
     "data": {
      "text/plain": [
       "(568322, 9)"
      ]
     },
     "execution_count": 38,
     "metadata": {},
     "output_type": "execute_result"
    }
   ],
   "source": [
    "df.shape"
   ]
  },
  {
   "cell_type": "markdown",
   "id": "c5e1612a",
   "metadata": {},
   "source": [
    "## Identifying the inputs (x) and output (y)"
   ]
  },
  {
   "cell_type": "code",
   "execution_count": 39,
   "id": "3b95b4f7",
   "metadata": {
    "ExecuteTime": {
     "end_time": "2022-09-25T11:19:26.656704Z",
     "start_time": "2022-09-25T11:19:26.639891Z"
    }
   },
   "outputs": [
    {
     "data": {
      "text/plain": [
       "Index(['ProductId', 'UserId', 'ProfileName', 'HelpfulnessNumerator',\n",
       "       'HelpfulnessDenominator', 'Time', 'ReviewSummary', 'ReviewText',\n",
       "       'Score'],\n",
       "      dtype='object')"
      ]
     },
     "execution_count": 39,
     "metadata": {},
     "output_type": "execute_result"
    }
   ],
   "source": [
    "df.columns"
   ]
  },
  {
   "cell_type": "code",
   "execution_count": 40,
   "id": "89649fca",
   "metadata": {
    "ExecuteTime": {
     "end_time": "2022-09-25T11:19:26.976613Z",
     "start_time": "2022-09-25T11:19:26.955377Z"
    }
   },
   "outputs": [],
   "source": [
    "X = df[['ReviewText']]\n",
    "y = df['Score']"
   ]
  },
  {
   "cell_type": "code",
   "execution_count": 41,
   "id": "00f1641b",
   "metadata": {
    "ExecuteTime": {
     "end_time": "2022-09-25T11:19:27.314944Z",
     "start_time": "2022-09-25T11:19:27.305926Z"
    }
   },
   "outputs": [
    {
     "data": {
      "text/plain": [
       "<bound method NDFrame.head of 0         5\n",
       "1         1\n",
       "2         4\n",
       "3         2\n",
       "4         5\n",
       "         ..\n",
       "568449    5\n",
       "568450    2\n",
       "568451    5\n",
       "568452    5\n",
       "568453    5\n",
       "Name: Score, Length: 568322, dtype: int64>"
      ]
     },
     "execution_count": 41,
     "metadata": {},
     "output_type": "execute_result"
    }
   ],
   "source": [
    "y.head"
   ]
  },
  {
   "cell_type": "markdown",
   "id": "b39d7494",
   "metadata": {},
   "source": [
    "## Split into train and test"
   ]
  },
  {
   "cell_type": "code",
   "execution_count": 42,
   "id": "0efb0a05",
   "metadata": {
    "ExecuteTime": {
     "end_time": "2022-09-25T11:19:28.067343Z",
     "start_time": "2022-09-25T11:19:27.985729Z"
    }
   },
   "outputs": [],
   "source": [
    "from sklearn.model_selection import train_test_split\n",
    "\n",
    "X_train, X_test, y_train, y_test = train_test_split(X, y, train_size=0.70, random_state=0)"
   ]
  },
  {
   "cell_type": "code",
   "execution_count": 50,
   "id": "20d39c30",
   "metadata": {
    "ExecuteTime": {
     "end_time": "2022-09-25T11:23:39.433924Z",
     "start_time": "2022-09-25T11:23:39.414142Z"
    }
   },
   "outputs": [
    {
     "data": {
      "text/html": [
       "<div>\n",
       "<style scoped>\n",
       "    .dataframe tbody tr th:only-of-type {\n",
       "        vertical-align: middle;\n",
       "    }\n",
       "\n",
       "    .dataframe tbody tr th {\n",
       "        vertical-align: top;\n",
       "    }\n",
       "\n",
       "    .dataframe thead th {\n",
       "        text-align: right;\n",
       "    }\n",
       "</style>\n",
       "<table border=\"1\" class=\"dataframe\">\n",
       "  <thead>\n",
       "    <tr style=\"text-align: right;\">\n",
       "      <th></th>\n",
       "      <th>ReviewText</th>\n",
       "    </tr>\n",
       "  </thead>\n",
       "  <tbody>\n",
       "    <tr>\n",
       "      <th>160310</th>\n",
       "      <td>i'm very glad my husband found this product. i...</td>\n",
       "    </tr>\n",
       "    <tr>\n",
       "      <th>150195</th>\n",
       "      <td>who knew these two flavors would blend togethe...</td>\n",
       "    </tr>\n",
       "    <tr>\n",
       "      <th>103836</th>\n",
       "      <td>i love the cookies and have for years. but thi...</td>\n",
       "    </tr>\n",
       "    <tr>\n",
       "      <th>191232</th>\n",
       "      <td>we had these at our wedding reception this pas...</td>\n",
       "    </tr>\n",
       "    <tr>\n",
       "      <th>394305</th>\n",
       "      <td>i was excited to try it the first day i got it...</td>\n",
       "    </tr>\n",
       "  </tbody>\n",
       "</table>\n",
       "</div>"
      ],
      "text/plain": [
       "                                               ReviewText\n",
       "160310  i'm very glad my husband found this product. i...\n",
       "150195  who knew these two flavors would blend togethe...\n",
       "103836  i love the cookies and have for years. but thi...\n",
       "191232  we had these at our wedding reception this pas...\n",
       "394305  i was excited to try it the first day i got it..."
      ]
     },
     "execution_count": 50,
     "metadata": {},
     "output_type": "execute_result"
    }
   ],
   "source": [
    "X_train.head()"
   ]
  },
  {
   "cell_type": "code",
   "execution_count": 49,
   "id": "7d365817",
   "metadata": {
    "ExecuteTime": {
     "end_time": "2022-09-25T11:23:28.401474Z",
     "start_time": "2022-09-25T11:23:28.381193Z"
    }
   },
   "outputs": [
    {
     "data": {
      "text/html": [
       "<div>\n",
       "<style scoped>\n",
       "    .dataframe tbody tr th:only-of-type {\n",
       "        vertical-align: middle;\n",
       "    }\n",
       "\n",
       "    .dataframe tbody tr th {\n",
       "        vertical-align: top;\n",
       "    }\n",
       "\n",
       "    .dataframe thead th {\n",
       "        text-align: right;\n",
       "    }\n",
       "</style>\n",
       "<table border=\"1\" class=\"dataframe\">\n",
       "  <thead>\n",
       "    <tr style=\"text-align: right;\">\n",
       "      <th></th>\n",
       "      <th>ReviewText</th>\n",
       "    </tr>\n",
       "  </thead>\n",
       "  <tbody>\n",
       "    <tr>\n",
       "      <th>185035</th>\n",
       "      <td>Coca Cola has always been popular; and there's...</td>\n",
       "    </tr>\n",
       "    <tr>\n",
       "      <th>526191</th>\n",
       "      <td>I have acid reflux disease, so I try to stick ...</td>\n",
       "    </tr>\n",
       "    <tr>\n",
       "      <th>25184</th>\n",
       "      <td>I have a Fox/JRT/who-knows-what terrier mix wh...</td>\n",
       "    </tr>\n",
       "    <tr>\n",
       "      <th>458974</th>\n",
       "      <td>Tried these when Amazon had them on sale.  Ple...</td>\n",
       "    </tr>\n",
       "    <tr>\n",
       "      <th>312042</th>\n",
       "      <td>I cannot believe that these are gluten free.  ...</td>\n",
       "    </tr>\n",
       "  </tbody>\n",
       "</table>\n",
       "</div>"
      ],
      "text/plain": [
       "                                               ReviewText\n",
       "185035  Coca Cola has always been popular; and there's...\n",
       "526191  I have acid reflux disease, so I try to stick ...\n",
       "25184   I have a Fox/JRT/who-knows-what terrier mix wh...\n",
       "458974  Tried these when Amazon had them on sale.  Ple...\n",
       "312042  I cannot believe that these are gluten free.  ..."
      ]
     },
     "execution_count": 49,
     "metadata": {},
     "output_type": "execute_result"
    }
   ],
   "source": [
    "X_test.head()"
   ]
  },
  {
   "cell_type": "code",
   "execution_count": 45,
   "id": "369911b9",
   "metadata": {
    "ExecuteTime": {
     "end_time": "2022-09-25T11:19:28.980128Z",
     "start_time": "2022-09-25T11:19:28.962256Z"
    }
   },
   "outputs": [
    {
     "data": {
      "text/plain": [
       "(397825, 1)"
      ]
     },
     "execution_count": 45,
     "metadata": {},
     "output_type": "execute_result"
    },
    {
     "data": {
      "text/plain": [
       "(170497, 1)"
      ]
     },
     "execution_count": 45,
     "metadata": {},
     "output_type": "execute_result"
    },
    {
     "data": {
      "text/plain": [
       "(397825,)"
      ]
     },
     "execution_count": 45,
     "metadata": {},
     "output_type": "execute_result"
    },
    {
     "data": {
      "text/plain": [
       "(170497,)"
      ]
     },
     "execution_count": 45,
     "metadata": {},
     "output_type": "execute_result"
    }
   ],
   "source": [
    "X_train.shape\n",
    "X_test.shape\n",
    "y_train.shape\n",
    "y_test.shape"
   ]
  },
  {
   "cell_type": "code",
   "execution_count": 46,
   "id": "b9d8c4df",
   "metadata": {
    "ExecuteTime": {
     "end_time": "2022-09-25T11:22:06.685735Z",
     "start_time": "2022-09-25T11:22:06.371410Z"
    }
   },
   "outputs": [],
   "source": [
    "X_train.ReviewText=X_train[\"ReviewText\"].str.lower()"
   ]
  },
  {
   "cell_type": "code",
   "execution_count": 51,
   "id": "535e8413",
   "metadata": {
    "ExecuteTime": {
     "end_time": "2022-09-25T11:23:53.984212Z",
     "start_time": "2022-09-25T11:23:53.976279Z"
    }
   },
   "outputs": [
    {
     "data": {
      "text/html": [
       "<div>\n",
       "<style scoped>\n",
       "    .dataframe tbody tr th:only-of-type {\n",
       "        vertical-align: middle;\n",
       "    }\n",
       "\n",
       "    .dataframe tbody tr th {\n",
       "        vertical-align: top;\n",
       "    }\n",
       "\n",
       "    .dataframe thead th {\n",
       "        text-align: right;\n",
       "    }\n",
       "</style>\n",
       "<table border=\"1\" class=\"dataframe\">\n",
       "  <thead>\n",
       "    <tr style=\"text-align: right;\">\n",
       "      <th></th>\n",
       "      <th>ReviewText</th>\n",
       "    </tr>\n",
       "  </thead>\n",
       "  <tbody>\n",
       "    <tr>\n",
       "      <th>160310</th>\n",
       "      <td>i'm very glad my husband found this product. i...</td>\n",
       "    </tr>\n",
       "    <tr>\n",
       "      <th>150195</th>\n",
       "      <td>who knew these two flavors would blend togethe...</td>\n",
       "    </tr>\n",
       "    <tr>\n",
       "      <th>103836</th>\n",
       "      <td>i love the cookies and have for years. but thi...</td>\n",
       "    </tr>\n",
       "    <tr>\n",
       "      <th>191232</th>\n",
       "      <td>we had these at our wedding reception this pas...</td>\n",
       "    </tr>\n",
       "    <tr>\n",
       "      <th>394305</th>\n",
       "      <td>i was excited to try it the first day i got it...</td>\n",
       "    </tr>\n",
       "  </tbody>\n",
       "</table>\n",
       "</div>"
      ],
      "text/plain": [
       "                                               ReviewText\n",
       "160310  i'm very glad my husband found this product. i...\n",
       "150195  who knew these two flavors would blend togethe...\n",
       "103836  i love the cookies and have for years. but thi...\n",
       "191232  we had these at our wedding reception this pas...\n",
       "394305  i was excited to try it the first day i got it..."
      ]
     },
     "execution_count": 51,
     "metadata": {},
     "output_type": "execute_result"
    }
   ],
   "source": [
    "X_train.head()"
   ]
  },
  {
   "cell_type": "code",
   "execution_count": 59,
   "id": "7e8beceb",
   "metadata": {
    "ExecuteTime": {
     "end_time": "2022-09-25T11:34:49.751738Z",
     "start_time": "2022-09-25T11:34:42.505366Z"
    }
   },
   "outputs": [],
   "source": [
    "X_train.ReviewText=X_train[\"ReviewText\"].str.replace('[^A-Za-z0-9]+',' ',regex = True)"
   ]
  },
  {
   "cell_type": "code",
   "execution_count": 60,
   "id": "69730855",
   "metadata": {
    "ExecuteTime": {
     "end_time": "2022-09-25T11:35:22.787814Z",
     "start_time": "2022-09-25T11:35:22.768790Z"
    }
   },
   "outputs": [
    {
     "data": {
      "text/html": [
       "<div>\n",
       "<style scoped>\n",
       "    .dataframe tbody tr th:only-of-type {\n",
       "        vertical-align: middle;\n",
       "    }\n",
       "\n",
       "    .dataframe tbody tr th {\n",
       "        vertical-align: top;\n",
       "    }\n",
       "\n",
       "    .dataframe thead th {\n",
       "        text-align: right;\n",
       "    }\n",
       "</style>\n",
       "<table border=\"1\" class=\"dataframe\">\n",
       "  <thead>\n",
       "    <tr style=\"text-align: right;\">\n",
       "      <th></th>\n",
       "      <th>ReviewText</th>\n",
       "    </tr>\n",
       "  </thead>\n",
       "  <tbody>\n",
       "    <tr>\n",
       "      <th>160310</th>\n",
       "      <td>i m very glad my husband found this product it...</td>\n",
       "    </tr>\n",
       "    <tr>\n",
       "      <th>150195</th>\n",
       "      <td>who knew these two flavors would blend togethe...</td>\n",
       "    </tr>\n",
       "    <tr>\n",
       "      <th>103836</th>\n",
       "      <td>i love the cookies and have for years but this...</td>\n",
       "    </tr>\n",
       "    <tr>\n",
       "      <th>191232</th>\n",
       "      <td>we had these at our wedding reception this pas...</td>\n",
       "    </tr>\n",
       "    <tr>\n",
       "      <th>394305</th>\n",
       "      <td>i was excited to try it the first day i got it...</td>\n",
       "    </tr>\n",
       "  </tbody>\n",
       "</table>\n",
       "</div>"
      ],
      "text/plain": [
       "                                               ReviewText\n",
       "160310  i m very glad my husband found this product it...\n",
       "150195  who knew these two flavors would blend togethe...\n",
       "103836  i love the cookies and have for years but this...\n",
       "191232  we had these at our wedding reception this pas...\n",
       "394305  i was excited to try it the first day i got it..."
      ]
     },
     "execution_count": 60,
     "metadata": {},
     "output_type": "execute_result"
    }
   ],
   "source": [
    "X_train.head()"
   ]
  },
  {
   "cell_type": "code",
   "execution_count": 109,
   "id": "4f5aa40f",
   "metadata": {
    "ExecuteTime": {
     "end_time": "2022-09-25T12:52:05.401763Z",
     "start_time": "2022-09-25T12:51:06.397008Z"
    }
   },
   "outputs": [],
   "source": [
    "stop_words = nltk.corpus.stopwords.words('english')\n",
    "X_train.ReviewText=X_train[\"ReviewText\"].apply(lambda x: remove_stopwords(x,is_lower_case=True,stopwords=stop_words))"
   ]
  },
  {
   "cell_type": "code",
   "execution_count": 110,
   "id": "5a6081ff",
   "metadata": {
    "ExecuteTime": {
     "end_time": "2022-09-25T12:52:19.731966Z",
     "start_time": "2022-09-25T12:52:19.714071Z"
    }
   },
   "outputs": [
    {
     "data": {
      "text/html": [
       "<div>\n",
       "<style scoped>\n",
       "    .dataframe tbody tr th:only-of-type {\n",
       "        vertical-align: middle;\n",
       "    }\n",
       "\n",
       "    .dataframe tbody tr th {\n",
       "        vertical-align: top;\n",
       "    }\n",
       "\n",
       "    .dataframe thead th {\n",
       "        text-align: right;\n",
       "    }\n",
       "</style>\n",
       "<table border=\"1\" class=\"dataframe\">\n",
       "  <thead>\n",
       "    <tr style=\"text-align: right;\">\n",
       "      <th></th>\n",
       "      <th>ReviewText</th>\n",
       "    </tr>\n",
       "  </thead>\n",
       "  <tbody>\n",
       "    <tr>\n",
       "      <th>160310</th>\n",
       "      <td>glad husband found product low calorie add lot...</td>\n",
       "    </tr>\n",
       "    <tr>\n",
       "      <th>150195</th>\n",
       "      <td>knew two flavor would blend together well root...</td>\n",
       "    </tr>\n",
       "    <tr>\n",
       "      <th>103836</th>\n",
       "      <td>love cooky year shipment came many broken one</td>\n",
       "    </tr>\n",
       "    <tr>\n",
       "      <th>191232</th>\n",
       "      <td>wedding reception past summer hit thought plen...</td>\n",
       "    </tr>\n",
       "    <tr>\n",
       "      <th>394305</th>\n",
       "      <td>wa excited try first day got mail flavor poppi...</td>\n",
       "    </tr>\n",
       "  </tbody>\n",
       "</table>\n",
       "</div>"
      ],
      "text/plain": [
       "                                               ReviewText\n",
       "160310  glad husband found product low calorie add lot...\n",
       "150195  knew two flavor would blend together well root...\n",
       "103836      love cooky year shipment came many broken one\n",
       "191232  wedding reception past summer hit thought plen...\n",
       "394305  wa excited try first day got mail flavor poppi..."
      ]
     },
     "execution_count": 110,
     "metadata": {},
     "output_type": "execute_result"
    }
   ],
   "source": [
    "X_train.head()"
   ]
  },
  {
   "cell_type": "code",
   "execution_count": 69,
   "id": "acd8aafe",
   "metadata": {
    "ExecuteTime": {
     "end_time": "2022-09-25T11:44:00.690706Z",
     "start_time": "2022-09-25T11:44:00.377654Z"
    }
   },
   "outputs": [],
   "source": [
    "X_train.ReviewText=X_train[\"ReviewText\"].str.replace(r\"http\\S+\",\"\", regex = True )\n"
   ]
  },
  {
   "cell_type": "code",
   "execution_count": 70,
   "id": "e5b514b8",
   "metadata": {
    "ExecuteTime": {
     "end_time": "2022-09-25T11:44:16.413962Z",
     "start_time": "2022-09-25T11:44:16.397922Z"
    }
   },
   "outputs": [
    {
     "data": {
      "text/html": [
       "<div>\n",
       "<style scoped>\n",
       "    .dataframe tbody tr th:only-of-type {\n",
       "        vertical-align: middle;\n",
       "    }\n",
       "\n",
       "    .dataframe tbody tr th {\n",
       "        vertical-align: top;\n",
       "    }\n",
       "\n",
       "    .dataframe thead th {\n",
       "        text-align: right;\n",
       "    }\n",
       "</style>\n",
       "<table border=\"1\" class=\"dataframe\">\n",
       "  <thead>\n",
       "    <tr style=\"text-align: right;\">\n",
       "      <th></th>\n",
       "      <th>ReviewText</th>\n",
       "    </tr>\n",
       "  </thead>\n",
       "  <tbody>\n",
       "    <tr>\n",
       "      <th>160310</th>\n",
       "      <td>i m very glad my husband found this product it...</td>\n",
       "    </tr>\n",
       "    <tr>\n",
       "      <th>150195</th>\n",
       "      <td>who knew these two flavors would blend togethe...</td>\n",
       "    </tr>\n",
       "    <tr>\n",
       "      <th>103836</th>\n",
       "      <td>i love the cookies and have for years but this...</td>\n",
       "    </tr>\n",
       "    <tr>\n",
       "      <th>191232</th>\n",
       "      <td>we had these at our wedding reception this pas...</td>\n",
       "    </tr>\n",
       "    <tr>\n",
       "      <th>394305</th>\n",
       "      <td>i was excited to try it the first day i got it...</td>\n",
       "    </tr>\n",
       "  </tbody>\n",
       "</table>\n",
       "</div>"
      ],
      "text/plain": [
       "                                               ReviewText\n",
       "160310  i m very glad my husband found this product it...\n",
       "150195  who knew these two flavors would blend togethe...\n",
       "103836  i love the cookies and have for years but this...\n",
       "191232  we had these at our wedding reception this pas...\n",
       "394305  i was excited to try it the first day i got it..."
      ]
     },
     "execution_count": 70,
     "metadata": {},
     "output_type": "execute_result"
    }
   ],
   "source": [
    "X_train.head()"
   ]
  },
  {
   "cell_type": "code",
   "execution_count": 95,
   "id": "1b083a71",
   "metadata": {
    "ExecuteTime": {
     "end_time": "2022-09-25T12:22:35.142146Z",
     "start_time": "2022-09-25T12:21:32.593910Z"
    }
   },
   "outputs": [],
   "source": [
    "X_train.ReviewText=X_train[\"ReviewText\"].apply(lambda x: lematizer(x))"
   ]
  },
  {
   "cell_type": "code",
   "execution_count": 96,
   "id": "b765e497",
   "metadata": {
    "ExecuteTime": {
     "end_time": "2022-09-25T12:23:26.676561Z",
     "start_time": "2022-09-25T12:23:26.667591Z"
    }
   },
   "outputs": [
    {
     "data": {
      "text/html": [
       "<div>\n",
       "<style scoped>\n",
       "    .dataframe tbody tr th:only-of-type {\n",
       "        vertical-align: middle;\n",
       "    }\n",
       "\n",
       "    .dataframe tbody tr th {\n",
       "        vertical-align: top;\n",
       "    }\n",
       "\n",
       "    .dataframe thead th {\n",
       "        text-align: right;\n",
       "    }\n",
       "</style>\n",
       "<table border=\"1\" class=\"dataframe\">\n",
       "  <thead>\n",
       "    <tr style=\"text-align: right;\">\n",
       "      <th></th>\n",
       "      <th>ReviewText</th>\n",
       "    </tr>\n",
       "  </thead>\n",
       "  <tbody>\n",
       "    <tr>\n",
       "      <th>160310</th>\n",
       "      <td>i m very glad my husband found this product it...</td>\n",
       "    </tr>\n",
       "    <tr>\n",
       "      <th>150195</th>\n",
       "      <td>who knew these two flavor would blend together...</td>\n",
       "    </tr>\n",
       "    <tr>\n",
       "      <th>103836</th>\n",
       "      <td>i love the cooky and have for year but this sh...</td>\n",
       "    </tr>\n",
       "    <tr>\n",
       "      <th>191232</th>\n",
       "      <td>we had these at our wedding reception this pas...</td>\n",
       "    </tr>\n",
       "    <tr>\n",
       "      <th>394305</th>\n",
       "      <td>i wa excited to try it the first day i got it ...</td>\n",
       "    </tr>\n",
       "  </tbody>\n",
       "</table>\n",
       "</div>"
      ],
      "text/plain": [
       "                                               ReviewText\n",
       "160310  i m very glad my husband found this product it...\n",
       "150195  who knew these two flavor would blend together...\n",
       "103836  i love the cooky and have for year but this sh...\n",
       "191232  we had these at our wedding reception this pas...\n",
       "394305  i wa excited to try it the first day i got it ..."
      ]
     },
     "execution_count": 96,
     "metadata": {},
     "output_type": "execute_result"
    }
   ],
   "source": [
    "X_train.head()"
   ]
  },
  {
   "cell_type": "markdown",
   "id": "a77c965c",
   "metadata": {},
   "source": [
    "## BOW"
   ]
  },
  {
   "cell_type": "code",
   "execution_count": 112,
   "id": "8b327186",
   "metadata": {
    "ExecuteTime": {
     "end_time": "2022-09-25T12:54:31.977186Z",
     "start_time": "2022-09-25T12:54:24.787046Z"
    }
   },
   "outputs": [],
   "source": [
    "from sklearn.feature_extraction.text import CountVectorizer\n",
    "\n",
    "vect = CountVectorizer()\n",
    "\n",
    "X_train_bow = vect.fit_transform(X_train[\"ReviewText\"])"
   ]
  },
  {
   "cell_type": "markdown",
   "id": "cafcd90a",
   "metadata": {
    "ExecuteTime": {
     "end_time": "2022-09-25T12:58:15.854472Z",
     "start_time": "2022-09-25T12:58:15.849479Z"
    }
   },
   "source": [
    "## same preprocessing step on test data"
   ]
  },
  {
   "cell_type": "code",
   "execution_count": 114,
   "id": "e313eafb",
   "metadata": {
    "ExecuteTime": {
     "end_time": "2022-09-25T12:58:43.389000Z",
     "start_time": "2022-09-25T12:58:43.227877Z"
    }
   },
   "outputs": [],
   "source": [
    "X_test.ReviewText=X_test[\"ReviewText\"].str.lower()"
   ]
  },
  {
   "cell_type": "code",
   "execution_count": 115,
   "id": "24206332",
   "metadata": {
    "ExecuteTime": {
     "end_time": "2022-09-25T12:58:58.966432Z",
     "start_time": "2022-09-25T12:58:58.949540Z"
    }
   },
   "outputs": [
    {
     "data": {
      "text/html": [
       "<div>\n",
       "<style scoped>\n",
       "    .dataframe tbody tr th:only-of-type {\n",
       "        vertical-align: middle;\n",
       "    }\n",
       "\n",
       "    .dataframe tbody tr th {\n",
       "        vertical-align: top;\n",
       "    }\n",
       "\n",
       "    .dataframe thead th {\n",
       "        text-align: right;\n",
       "    }\n",
       "</style>\n",
       "<table border=\"1\" class=\"dataframe\">\n",
       "  <thead>\n",
       "    <tr style=\"text-align: right;\">\n",
       "      <th></th>\n",
       "      <th>ReviewText</th>\n",
       "    </tr>\n",
       "  </thead>\n",
       "  <tbody>\n",
       "    <tr>\n",
       "      <th>185035</th>\n",
       "      <td>coca cola has always been popular; and there's...</td>\n",
       "    </tr>\n",
       "    <tr>\n",
       "      <th>526191</th>\n",
       "      <td>i have acid reflux disease, so i try to stick ...</td>\n",
       "    </tr>\n",
       "    <tr>\n",
       "      <th>25184</th>\n",
       "      <td>i have a fox/jrt/who-knows-what terrier mix wh...</td>\n",
       "    </tr>\n",
       "    <tr>\n",
       "      <th>458974</th>\n",
       "      <td>tried these when amazon had them on sale.  ple...</td>\n",
       "    </tr>\n",
       "    <tr>\n",
       "      <th>312042</th>\n",
       "      <td>i cannot believe that these are gluten free.  ...</td>\n",
       "    </tr>\n",
       "  </tbody>\n",
       "</table>\n",
       "</div>"
      ],
      "text/plain": [
       "                                               ReviewText\n",
       "185035  coca cola has always been popular; and there's...\n",
       "526191  i have acid reflux disease, so i try to stick ...\n",
       "25184   i have a fox/jrt/who-knows-what terrier mix wh...\n",
       "458974  tried these when amazon had them on sale.  ple...\n",
       "312042  i cannot believe that these are gluten free.  ..."
      ]
     },
     "execution_count": 115,
     "metadata": {},
     "output_type": "execute_result"
    }
   ],
   "source": [
    "X_test.head()"
   ]
  },
  {
   "cell_type": "code",
   "execution_count": 116,
   "id": "c4b27e88",
   "metadata": {
    "ExecuteTime": {
     "end_time": "2022-09-25T12:59:32.645949Z",
     "start_time": "2022-09-25T12:59:29.424298Z"
    }
   },
   "outputs": [],
   "source": [
    "X_test.ReviewText=X_test[\"ReviewText\"].str.replace('[^A-Za-z0-9]+',' ',regex = True)"
   ]
  },
  {
   "cell_type": "code",
   "execution_count": 117,
   "id": "ef64bc43",
   "metadata": {
    "ExecuteTime": {
     "end_time": "2022-09-25T12:59:38.750155Z",
     "start_time": "2022-09-25T12:59:38.735078Z"
    }
   },
   "outputs": [
    {
     "data": {
      "text/html": [
       "<div>\n",
       "<style scoped>\n",
       "    .dataframe tbody tr th:only-of-type {\n",
       "        vertical-align: middle;\n",
       "    }\n",
       "\n",
       "    .dataframe tbody tr th {\n",
       "        vertical-align: top;\n",
       "    }\n",
       "\n",
       "    .dataframe thead th {\n",
       "        text-align: right;\n",
       "    }\n",
       "</style>\n",
       "<table border=\"1\" class=\"dataframe\">\n",
       "  <thead>\n",
       "    <tr style=\"text-align: right;\">\n",
       "      <th></th>\n",
       "      <th>ReviewText</th>\n",
       "    </tr>\n",
       "  </thead>\n",
       "  <tbody>\n",
       "    <tr>\n",
       "      <th>185035</th>\n",
       "      <td>coca cola has always been popular and there s ...</td>\n",
       "    </tr>\n",
       "    <tr>\n",
       "      <th>526191</th>\n",
       "      <td>i have acid reflux disease so i try to stick t...</td>\n",
       "    </tr>\n",
       "    <tr>\n",
       "      <th>25184</th>\n",
       "      <td>i have a fox jrt who knows what terrier mix wh...</td>\n",
       "    </tr>\n",
       "    <tr>\n",
       "      <th>458974</th>\n",
       "      <td>tried these when amazon had them on sale pleas...</td>\n",
       "    </tr>\n",
       "    <tr>\n",
       "      <th>312042</th>\n",
       "      <td>i cannot believe that these are gluten free th...</td>\n",
       "    </tr>\n",
       "  </tbody>\n",
       "</table>\n",
       "</div>"
      ],
      "text/plain": [
       "                                               ReviewText\n",
       "185035  coca cola has always been popular and there s ...\n",
       "526191  i have acid reflux disease so i try to stick t...\n",
       "25184   i have a fox jrt who knows what terrier mix wh...\n",
       "458974  tried these when amazon had them on sale pleas...\n",
       "312042  i cannot believe that these are gluten free th..."
      ]
     },
     "execution_count": 117,
     "metadata": {},
     "output_type": "execute_result"
    }
   ],
   "source": [
    "X_test.head()"
   ]
  },
  {
   "cell_type": "code",
   "execution_count": 118,
   "id": "1cb67fb9",
   "metadata": {
    "ExecuteTime": {
     "end_time": "2022-09-25T13:00:50.451647Z",
     "start_time": "2022-09-25T13:00:14.681526Z"
    }
   },
   "outputs": [],
   "source": [
    "X_test.ReviewText=X_test[\"ReviewText\"].apply(lambda x: remove_stopwords(x,is_lower_case=True,stopwords=stop_words))"
   ]
  },
  {
   "cell_type": "code",
   "execution_count": 119,
   "id": "43249f3d",
   "metadata": {
    "ExecuteTime": {
     "end_time": "2022-09-25T13:00:53.010735Z",
     "start_time": "2022-09-25T13:00:53.000715Z"
    }
   },
   "outputs": [
    {
     "data": {
      "text/html": [
       "<div>\n",
       "<style scoped>\n",
       "    .dataframe tbody tr th:only-of-type {\n",
       "        vertical-align: middle;\n",
       "    }\n",
       "\n",
       "    .dataframe tbody tr th {\n",
       "        vertical-align: top;\n",
       "    }\n",
       "\n",
       "    .dataframe thead th {\n",
       "        text-align: right;\n",
       "    }\n",
       "</style>\n",
       "<table border=\"1\" class=\"dataframe\">\n",
       "  <thead>\n",
       "    <tr style=\"text-align: right;\">\n",
       "      <th></th>\n",
       "      <th>ReviewText</th>\n",
       "    </tr>\n",
       "  </thead>\n",
       "  <tbody>\n",
       "    <tr>\n",
       "      <th>185035</th>\n",
       "      <td>coca cola always popular secret coca cola diet...</td>\n",
       "    </tr>\n",
       "    <tr>\n",
       "      <th>526191</th>\n",
       "      <td>acid reflux disease try stick foods drinks cau...</td>\n",
       "    </tr>\n",
       "    <tr>\n",
       "      <th>25184</th>\n",
       "      <td>fox jrt knows terrier mix really enjoys puzzle...</td>\n",
       "    </tr>\n",
       "    <tr>\n",
       "      <th>458974</th>\n",
       "      <td>tried amazon sale pleasantly surprised</td>\n",
       "    </tr>\n",
       "    <tr>\n",
       "      <th>312042</th>\n",
       "      <td>believe gluten free taste exactly like regular...</td>\n",
       "    </tr>\n",
       "  </tbody>\n",
       "</table>\n",
       "</div>"
      ],
      "text/plain": [
       "                                               ReviewText\n",
       "185035  coca cola always popular secret coca cola diet...\n",
       "526191  acid reflux disease try stick foods drinks cau...\n",
       "25184   fox jrt knows terrier mix really enjoys puzzle...\n",
       "458974             tried amazon sale pleasantly surprised\n",
       "312042  believe gluten free taste exactly like regular..."
      ]
     },
     "execution_count": 119,
     "metadata": {},
     "output_type": "execute_result"
    }
   ],
   "source": [
    "X_test.head()"
   ]
  },
  {
   "cell_type": "code",
   "execution_count": 120,
   "id": "cc3ae82a",
   "metadata": {
    "ExecuteTime": {
     "end_time": "2022-09-25T13:01:20.810868Z",
     "start_time": "2022-09-25T13:01:20.680828Z"
    }
   },
   "outputs": [],
   "source": [
    "X_test.ReviewText=X_test[\"ReviewText\"].str.replace(r\"http\\S+\",\"\", regex = True )\n"
   ]
  },
  {
   "cell_type": "code",
   "execution_count": 121,
   "id": "1ad68a19",
   "metadata": {
    "ExecuteTime": {
     "end_time": "2022-09-25T13:01:31.827286Z",
     "start_time": "2022-09-25T13:01:31.811792Z"
    }
   },
   "outputs": [
    {
     "data": {
      "text/html": [
       "<div>\n",
       "<style scoped>\n",
       "    .dataframe tbody tr th:only-of-type {\n",
       "        vertical-align: middle;\n",
       "    }\n",
       "\n",
       "    .dataframe tbody tr th {\n",
       "        vertical-align: top;\n",
       "    }\n",
       "\n",
       "    .dataframe thead th {\n",
       "        text-align: right;\n",
       "    }\n",
       "</style>\n",
       "<table border=\"1\" class=\"dataframe\">\n",
       "  <thead>\n",
       "    <tr style=\"text-align: right;\">\n",
       "      <th></th>\n",
       "      <th>ReviewText</th>\n",
       "    </tr>\n",
       "  </thead>\n",
       "  <tbody>\n",
       "    <tr>\n",
       "      <th>185035</th>\n",
       "      <td>coca cola always popular secret coca cola diet...</td>\n",
       "    </tr>\n",
       "    <tr>\n",
       "      <th>526191</th>\n",
       "      <td>acid reflux disease try stick foods drinks cau...</td>\n",
       "    </tr>\n",
       "    <tr>\n",
       "      <th>25184</th>\n",
       "      <td>fox jrt knows terrier mix really enjoys puzzle...</td>\n",
       "    </tr>\n",
       "    <tr>\n",
       "      <th>458974</th>\n",
       "      <td>tried amazon sale pleasantly surprised</td>\n",
       "    </tr>\n",
       "    <tr>\n",
       "      <th>312042</th>\n",
       "      <td>believe gluten free taste exactly like regular...</td>\n",
       "    </tr>\n",
       "  </tbody>\n",
       "</table>\n",
       "</div>"
      ],
      "text/plain": [
       "                                               ReviewText\n",
       "185035  coca cola always popular secret coca cola diet...\n",
       "526191  acid reflux disease try stick foods drinks cau...\n",
       "25184   fox jrt knows terrier mix really enjoys puzzle...\n",
       "458974             tried amazon sale pleasantly surprised\n",
       "312042  believe gluten free taste exactly like regular..."
      ]
     },
     "execution_count": 121,
     "metadata": {},
     "output_type": "execute_result"
    }
   ],
   "source": [
    "X_test.head()"
   ]
  },
  {
   "cell_type": "code",
   "execution_count": 122,
   "id": "a901daa4",
   "metadata": {
    "ExecuteTime": {
     "end_time": "2022-09-25T13:02:17.545080Z",
     "start_time": "2022-09-25T13:01:58.091987Z"
    }
   },
   "outputs": [],
   "source": [
    "X_test.ReviewText=X_test[\"ReviewText\"].apply(lambda x: lematizer(x))"
   ]
  },
  {
   "cell_type": "markdown",
   "id": "fd49338d",
   "metadata": {},
   "source": [
    "## BOW"
   ]
  },
  {
   "cell_type": "code",
   "execution_count": 123,
   "id": "eda78989",
   "metadata": {
    "ExecuteTime": {
     "end_time": "2022-09-25T13:05:29.969999Z",
     "start_time": "2022-09-25T13:05:26.877827Z"
    }
   },
   "outputs": [],
   "source": [
    "X_test_bow = vect.transform(X_test['ReviewText'])"
   ]
  },
  {
   "cell_type": "markdown",
   "id": "74ba9bed",
   "metadata": {},
   "source": [
    "## model building"
   ]
  },
  {
   "cell_type": "markdown",
   "id": "fd25555b",
   "metadata": {},
   "source": [
    "## Naive bayes"
   ]
  },
  {
   "cell_type": "code",
   "execution_count": 128,
   "id": "29a7c9cf",
   "metadata": {
    "ExecuteTime": {
     "end_time": "2022-09-25T13:08:37.934974Z",
     "start_time": "2022-09-25T13:08:37.794192Z"
    }
   },
   "outputs": [
    {
     "data": {
      "text/html": [
       "<style>#sk-container-id-2 {color: black;background-color: white;}#sk-container-id-2 pre{padding: 0;}#sk-container-id-2 div.sk-toggleable {background-color: white;}#sk-container-id-2 label.sk-toggleable__label {cursor: pointer;display: block;width: 100%;margin-bottom: 0;padding: 0.3em;box-sizing: border-box;text-align: center;}#sk-container-id-2 label.sk-toggleable__label-arrow:before {content: \"▸\";float: left;margin-right: 0.25em;color: #696969;}#sk-container-id-2 label.sk-toggleable__label-arrow:hover:before {color: black;}#sk-container-id-2 div.sk-estimator:hover label.sk-toggleable__label-arrow:before {color: black;}#sk-container-id-2 div.sk-toggleable__content {max-height: 0;max-width: 0;overflow: hidden;text-align: left;background-color: #f0f8ff;}#sk-container-id-2 div.sk-toggleable__content pre {margin: 0.2em;color: black;border-radius: 0.25em;background-color: #f0f8ff;}#sk-container-id-2 input.sk-toggleable__control:checked~div.sk-toggleable__content {max-height: 200px;max-width: 100%;overflow: auto;}#sk-container-id-2 input.sk-toggleable__control:checked~label.sk-toggleable__label-arrow:before {content: \"▾\";}#sk-container-id-2 div.sk-estimator input.sk-toggleable__control:checked~label.sk-toggleable__label {background-color: #d4ebff;}#sk-container-id-2 div.sk-label input.sk-toggleable__control:checked~label.sk-toggleable__label {background-color: #d4ebff;}#sk-container-id-2 input.sk-hidden--visually {border: 0;clip: rect(1px 1px 1px 1px);clip: rect(1px, 1px, 1px, 1px);height: 1px;margin: -1px;overflow: hidden;padding: 0;position: absolute;width: 1px;}#sk-container-id-2 div.sk-estimator {font-family: monospace;background-color: #f0f8ff;border: 1px dotted black;border-radius: 0.25em;box-sizing: border-box;margin-bottom: 0.5em;}#sk-container-id-2 div.sk-estimator:hover {background-color: #d4ebff;}#sk-container-id-2 div.sk-parallel-item::after {content: \"\";width: 100%;border-bottom: 1px solid gray;flex-grow: 1;}#sk-container-id-2 div.sk-label:hover label.sk-toggleable__label {background-color: #d4ebff;}#sk-container-id-2 div.sk-serial::before {content: \"\";position: absolute;border-left: 1px solid gray;box-sizing: border-box;top: 0;bottom: 0;left: 50%;z-index: 0;}#sk-container-id-2 div.sk-serial {display: flex;flex-direction: column;align-items: center;background-color: white;padding-right: 0.2em;padding-left: 0.2em;position: relative;}#sk-container-id-2 div.sk-item {position: relative;z-index: 1;}#sk-container-id-2 div.sk-parallel {display: flex;align-items: stretch;justify-content: center;background-color: white;position: relative;}#sk-container-id-2 div.sk-item::before, #sk-container-id-2 div.sk-parallel-item::before {content: \"\";position: absolute;border-left: 1px solid gray;box-sizing: border-box;top: 0;bottom: 0;left: 50%;z-index: -1;}#sk-container-id-2 div.sk-parallel-item {display: flex;flex-direction: column;z-index: 1;position: relative;background-color: white;}#sk-container-id-2 div.sk-parallel-item:first-child::after {align-self: flex-end;width: 50%;}#sk-container-id-2 div.sk-parallel-item:last-child::after {align-self: flex-start;width: 50%;}#sk-container-id-2 div.sk-parallel-item:only-child::after {width: 0;}#sk-container-id-2 div.sk-dashed-wrapped {border: 1px dashed gray;margin: 0 0.4em 0.5em 0.4em;box-sizing: border-box;padding-bottom: 0.4em;background-color: white;}#sk-container-id-2 div.sk-label label {font-family: monospace;font-weight: bold;display: inline-block;line-height: 1.2em;}#sk-container-id-2 div.sk-label-container {text-align: center;}#sk-container-id-2 div.sk-container {/* jupyter's `normalize.less` sets `[hidden] { display: none; }` but bootstrap.min.css set `[hidden] { display: none !important; }` so we also need the `!important` here to be able to override the default hidden behavior on the sphinx rendered scikit-learn.org. See: https://github.com/scikit-learn/scikit-learn/issues/21755 */display: inline-block !important;position: relative;}#sk-container-id-2 div.sk-text-repr-fallback {display: none;}</style><div id=\"sk-container-id-2\" class=\"sk-top-container\"><div class=\"sk-text-repr-fallback\"><pre>MultinomialNB()</pre><b>In a Jupyter environment, please rerun this cell to show the HTML representation or trust the notebook. <br />On GitHub, the HTML representation is unable to render, please try loading this page with nbviewer.org.</b></div><div class=\"sk-container\" hidden><div class=\"sk-item\"><div class=\"sk-estimator sk-toggleable\"><input class=\"sk-toggleable__control sk-hidden--visually\" id=\"sk-estimator-id-2\" type=\"checkbox\" checked><label for=\"sk-estimator-id-2\" class=\"sk-toggleable__label sk-toggleable__label-arrow\">MultinomialNB</label><div class=\"sk-toggleable__content\"><pre>MultinomialNB()</pre></div></div></div></div></div>"
      ],
      "text/plain": [
       "MultinomialNB()"
      ]
     },
     "execution_count": 128,
     "metadata": {},
     "output_type": "execute_result"
    }
   ],
   "source": [
    "from sklearn.naive_bayes import MultinomialNB\n",
    "nb = MultinomialNB()\n",
    "nb.fit(X_train_bow, y_train)"
   ]
  },
  {
   "cell_type": "code",
   "execution_count": 129,
   "id": "9f5ac536",
   "metadata": {
    "ExecuteTime": {
     "end_time": "2022-09-25T13:08:41.116718Z",
     "start_time": "2022-09-25T13:08:41.047053Z"
    }
   },
   "outputs": [],
   "source": [
    "y_pred_class_nb = nb.predict(X_test_bow)"
   ]
  },
  {
   "cell_type": "code",
   "execution_count": 130,
   "id": "5684ffe3",
   "metadata": {
    "ExecuteTime": {
     "end_time": "2022-09-25T13:08:41.646785Z",
     "start_time": "2022-09-25T13:08:41.621727Z"
    }
   },
   "outputs": [
    {
     "data": {
      "text/plain": [
       "0.7040417133439298"
      ]
     },
     "execution_count": 130,
     "metadata": {},
     "output_type": "execute_result"
    }
   ],
   "source": [
    "from sklearn import metrics\n",
    "metrics.accuracy_score(y_test, y_pred_class_nb)"
   ]
  },
  {
   "cell_type": "markdown",
   "id": "8428ce3d",
   "metadata": {},
   "source": [
    "## logistic regression"
   ]
  },
  {
   "cell_type": "code",
   "execution_count": 131,
   "id": "4e69ea4c",
   "metadata": {
    "ExecuteTime": {
     "end_time": "2022-09-25T13:09:22.358129Z",
     "start_time": "2022-09-25T13:09:00.118510Z"
    }
   },
   "outputs": [
    {
     "name": "stderr",
     "output_type": "stream",
     "text": [
      "C:\\Users\\HP\\anaconda3\\lib\\site-packages\\sklearn\\linear_model\\_logistic.py:444: ConvergenceWarning: lbfgs failed to converge (status=1):\n",
      "STOP: TOTAL NO. of ITERATIONS REACHED LIMIT.\n",
      "\n",
      "Increase the number of iterations (max_iter) or scale the data as shown in:\n",
      "    https://scikit-learn.org/stable/modules/preprocessing.html\n",
      "Please also refer to the documentation for alternative solver options:\n",
      "    https://scikit-learn.org/stable/modules/linear_model.html#logistic-regression\n",
      "  n_iter_i = _check_optimize_result(\n"
     ]
    },
    {
     "data": {
      "text/html": [
       "<style>#sk-container-id-3 {color: black;background-color: white;}#sk-container-id-3 pre{padding: 0;}#sk-container-id-3 div.sk-toggleable {background-color: white;}#sk-container-id-3 label.sk-toggleable__label {cursor: pointer;display: block;width: 100%;margin-bottom: 0;padding: 0.3em;box-sizing: border-box;text-align: center;}#sk-container-id-3 label.sk-toggleable__label-arrow:before {content: \"▸\";float: left;margin-right: 0.25em;color: #696969;}#sk-container-id-3 label.sk-toggleable__label-arrow:hover:before {color: black;}#sk-container-id-3 div.sk-estimator:hover label.sk-toggleable__label-arrow:before {color: black;}#sk-container-id-3 div.sk-toggleable__content {max-height: 0;max-width: 0;overflow: hidden;text-align: left;background-color: #f0f8ff;}#sk-container-id-3 div.sk-toggleable__content pre {margin: 0.2em;color: black;border-radius: 0.25em;background-color: #f0f8ff;}#sk-container-id-3 input.sk-toggleable__control:checked~div.sk-toggleable__content {max-height: 200px;max-width: 100%;overflow: auto;}#sk-container-id-3 input.sk-toggleable__control:checked~label.sk-toggleable__label-arrow:before {content: \"▾\";}#sk-container-id-3 div.sk-estimator input.sk-toggleable__control:checked~label.sk-toggleable__label {background-color: #d4ebff;}#sk-container-id-3 div.sk-label input.sk-toggleable__control:checked~label.sk-toggleable__label {background-color: #d4ebff;}#sk-container-id-3 input.sk-hidden--visually {border: 0;clip: rect(1px 1px 1px 1px);clip: rect(1px, 1px, 1px, 1px);height: 1px;margin: -1px;overflow: hidden;padding: 0;position: absolute;width: 1px;}#sk-container-id-3 div.sk-estimator {font-family: monospace;background-color: #f0f8ff;border: 1px dotted black;border-radius: 0.25em;box-sizing: border-box;margin-bottom: 0.5em;}#sk-container-id-3 div.sk-estimator:hover {background-color: #d4ebff;}#sk-container-id-3 div.sk-parallel-item::after {content: \"\";width: 100%;border-bottom: 1px solid gray;flex-grow: 1;}#sk-container-id-3 div.sk-label:hover label.sk-toggleable__label {background-color: #d4ebff;}#sk-container-id-3 div.sk-serial::before {content: \"\";position: absolute;border-left: 1px solid gray;box-sizing: border-box;top: 0;bottom: 0;left: 50%;z-index: 0;}#sk-container-id-3 div.sk-serial {display: flex;flex-direction: column;align-items: center;background-color: white;padding-right: 0.2em;padding-left: 0.2em;position: relative;}#sk-container-id-3 div.sk-item {position: relative;z-index: 1;}#sk-container-id-3 div.sk-parallel {display: flex;align-items: stretch;justify-content: center;background-color: white;position: relative;}#sk-container-id-3 div.sk-item::before, #sk-container-id-3 div.sk-parallel-item::before {content: \"\";position: absolute;border-left: 1px solid gray;box-sizing: border-box;top: 0;bottom: 0;left: 50%;z-index: -1;}#sk-container-id-3 div.sk-parallel-item {display: flex;flex-direction: column;z-index: 1;position: relative;background-color: white;}#sk-container-id-3 div.sk-parallel-item:first-child::after {align-self: flex-end;width: 50%;}#sk-container-id-3 div.sk-parallel-item:last-child::after {align-self: flex-start;width: 50%;}#sk-container-id-3 div.sk-parallel-item:only-child::after {width: 0;}#sk-container-id-3 div.sk-dashed-wrapped {border: 1px dashed gray;margin: 0 0.4em 0.5em 0.4em;box-sizing: border-box;padding-bottom: 0.4em;background-color: white;}#sk-container-id-3 div.sk-label label {font-family: monospace;font-weight: bold;display: inline-block;line-height: 1.2em;}#sk-container-id-3 div.sk-label-container {text-align: center;}#sk-container-id-3 div.sk-container {/* jupyter's `normalize.less` sets `[hidden] { display: none; }` but bootstrap.min.css set `[hidden] { display: none !important; }` so we also need the `!important` here to be able to override the default hidden behavior on the sphinx rendered scikit-learn.org. See: https://github.com/scikit-learn/scikit-learn/issues/21755 */display: inline-block !important;position: relative;}#sk-container-id-3 div.sk-text-repr-fallback {display: none;}</style><div id=\"sk-container-id-3\" class=\"sk-top-container\"><div class=\"sk-text-repr-fallback\"><pre>LogisticRegression()</pre><b>In a Jupyter environment, please rerun this cell to show the HTML representation or trust the notebook. <br />On GitHub, the HTML representation is unable to render, please try loading this page with nbviewer.org.</b></div><div class=\"sk-container\" hidden><div class=\"sk-item\"><div class=\"sk-estimator sk-toggleable\"><input class=\"sk-toggleable__control sk-hidden--visually\" id=\"sk-estimator-id-3\" type=\"checkbox\" checked><label for=\"sk-estimator-id-3\" class=\"sk-toggleable__label sk-toggleable__label-arrow\">LogisticRegression</label><div class=\"sk-toggleable__content\"><pre>LogisticRegression()</pre></div></div></div></div></div>"
      ],
      "text/plain": [
       "LogisticRegression()"
      ]
     },
     "execution_count": 131,
     "metadata": {},
     "output_type": "execute_result"
    }
   ],
   "source": [
    "from sklearn.linear_model import LogisticRegression\n",
    "lr=LogisticRegression()\n",
    "lr.fit(X_train_bow,y_train)"
   ]
  },
  {
   "cell_type": "code",
   "execution_count": 132,
   "id": "a9a0c076",
   "metadata": {
    "ExecuteTime": {
     "end_time": "2022-09-25T13:09:30.446207Z",
     "start_time": "2022-09-25T13:09:30.377432Z"
    }
   },
   "outputs": [],
   "source": [
    "lr_test=lr.predict(X_test_bow)"
   ]
  },
  {
   "cell_type": "code",
   "execution_count": 133,
   "id": "a1b2cbc3",
   "metadata": {
    "ExecuteTime": {
     "end_time": "2022-09-25T13:10:36.950872Z",
     "start_time": "2022-09-25T13:10:36.920889Z"
    }
   },
   "outputs": [
    {
     "data": {
      "text/plain": [
       "0.7344058839744981"
      ]
     },
     "execution_count": 133,
     "metadata": {},
     "output_type": "execute_result"
    }
   ],
   "source": [
    "metrics.accuracy_score(y_test, lr_test)"
   ]
  },
  {
   "cell_type": "markdown",
   "id": "0da9310d",
   "metadata": {},
   "source": [
    "## KNN classifier"
   ]
  },
  {
   "cell_type": "code",
   "execution_count": 134,
   "id": "48e9d283",
   "metadata": {
    "ExecuteTime": {
     "end_time": "2022-09-25T13:11:23.905625Z",
     "start_time": "2022-09-25T13:11:23.770861Z"
    }
   },
   "outputs": [
    {
     "data": {
      "text/html": [
       "<style>#sk-container-id-4 {color: black;background-color: white;}#sk-container-id-4 pre{padding: 0;}#sk-container-id-4 div.sk-toggleable {background-color: white;}#sk-container-id-4 label.sk-toggleable__label {cursor: pointer;display: block;width: 100%;margin-bottom: 0;padding: 0.3em;box-sizing: border-box;text-align: center;}#sk-container-id-4 label.sk-toggleable__label-arrow:before {content: \"▸\";float: left;margin-right: 0.25em;color: #696969;}#sk-container-id-4 label.sk-toggleable__label-arrow:hover:before {color: black;}#sk-container-id-4 div.sk-estimator:hover label.sk-toggleable__label-arrow:before {color: black;}#sk-container-id-4 div.sk-toggleable__content {max-height: 0;max-width: 0;overflow: hidden;text-align: left;background-color: #f0f8ff;}#sk-container-id-4 div.sk-toggleable__content pre {margin: 0.2em;color: black;border-radius: 0.25em;background-color: #f0f8ff;}#sk-container-id-4 input.sk-toggleable__control:checked~div.sk-toggleable__content {max-height: 200px;max-width: 100%;overflow: auto;}#sk-container-id-4 input.sk-toggleable__control:checked~label.sk-toggleable__label-arrow:before {content: \"▾\";}#sk-container-id-4 div.sk-estimator input.sk-toggleable__control:checked~label.sk-toggleable__label {background-color: #d4ebff;}#sk-container-id-4 div.sk-label input.sk-toggleable__control:checked~label.sk-toggleable__label {background-color: #d4ebff;}#sk-container-id-4 input.sk-hidden--visually {border: 0;clip: rect(1px 1px 1px 1px);clip: rect(1px, 1px, 1px, 1px);height: 1px;margin: -1px;overflow: hidden;padding: 0;position: absolute;width: 1px;}#sk-container-id-4 div.sk-estimator {font-family: monospace;background-color: #f0f8ff;border: 1px dotted black;border-radius: 0.25em;box-sizing: border-box;margin-bottom: 0.5em;}#sk-container-id-4 div.sk-estimator:hover {background-color: #d4ebff;}#sk-container-id-4 div.sk-parallel-item::after {content: \"\";width: 100%;border-bottom: 1px solid gray;flex-grow: 1;}#sk-container-id-4 div.sk-label:hover label.sk-toggleable__label {background-color: #d4ebff;}#sk-container-id-4 div.sk-serial::before {content: \"\";position: absolute;border-left: 1px solid gray;box-sizing: border-box;top: 0;bottom: 0;left: 50%;z-index: 0;}#sk-container-id-4 div.sk-serial {display: flex;flex-direction: column;align-items: center;background-color: white;padding-right: 0.2em;padding-left: 0.2em;position: relative;}#sk-container-id-4 div.sk-item {position: relative;z-index: 1;}#sk-container-id-4 div.sk-parallel {display: flex;align-items: stretch;justify-content: center;background-color: white;position: relative;}#sk-container-id-4 div.sk-item::before, #sk-container-id-4 div.sk-parallel-item::before {content: \"\";position: absolute;border-left: 1px solid gray;box-sizing: border-box;top: 0;bottom: 0;left: 50%;z-index: -1;}#sk-container-id-4 div.sk-parallel-item {display: flex;flex-direction: column;z-index: 1;position: relative;background-color: white;}#sk-container-id-4 div.sk-parallel-item:first-child::after {align-self: flex-end;width: 50%;}#sk-container-id-4 div.sk-parallel-item:last-child::after {align-self: flex-start;width: 50%;}#sk-container-id-4 div.sk-parallel-item:only-child::after {width: 0;}#sk-container-id-4 div.sk-dashed-wrapped {border: 1px dashed gray;margin: 0 0.4em 0.5em 0.4em;box-sizing: border-box;padding-bottom: 0.4em;background-color: white;}#sk-container-id-4 div.sk-label label {font-family: monospace;font-weight: bold;display: inline-block;line-height: 1.2em;}#sk-container-id-4 div.sk-label-container {text-align: center;}#sk-container-id-4 div.sk-container {/* jupyter's `normalize.less` sets `[hidden] { display: none; }` but bootstrap.min.css set `[hidden] { display: none !important; }` so we also need the `!important` here to be able to override the default hidden behavior on the sphinx rendered scikit-learn.org. See: https://github.com/scikit-learn/scikit-learn/issues/21755 */display: inline-block !important;position: relative;}#sk-container-id-4 div.sk-text-repr-fallback {display: none;}</style><div id=\"sk-container-id-4\" class=\"sk-top-container\"><div class=\"sk-text-repr-fallback\"><pre>KNeighborsClassifier()</pre><b>In a Jupyter environment, please rerun this cell to show the HTML representation or trust the notebook. <br />On GitHub, the HTML representation is unable to render, please try loading this page with nbviewer.org.</b></div><div class=\"sk-container\" hidden><div class=\"sk-item\"><div class=\"sk-estimator sk-toggleable\"><input class=\"sk-toggleable__control sk-hidden--visually\" id=\"sk-estimator-id-4\" type=\"checkbox\" checked><label for=\"sk-estimator-id-4\" class=\"sk-toggleable__label sk-toggleable__label-arrow\">KNeighborsClassifier</label><div class=\"sk-toggleable__content\"><pre>KNeighborsClassifier()</pre></div></div></div></div></div>"
      ],
      "text/plain": [
       "KNeighborsClassifier()"
      ]
     },
     "execution_count": 134,
     "metadata": {},
     "output_type": "execute_result"
    }
   ],
   "source": [
    "from sklearn.neighbors import KNeighborsClassifier\n",
    "knn = KNeighborsClassifier()\n",
    "knn.fit(X_train_bow, y_train)"
   ]
  },
  {
   "cell_type": "code",
   "execution_count": 135,
   "id": "15589383",
   "metadata": {
    "ExecuteTime": {
     "end_time": "2022-09-25T13:49:07.335210Z",
     "start_time": "2022-09-25T13:12:05.713331Z"
    }
   },
   "outputs": [],
   "source": [
    "knn_test = knn.predict(X_test_bow)"
   ]
  },
  {
   "cell_type": "code",
   "execution_count": 136,
   "id": "9e2d424e",
   "metadata": {
    "ExecuteTime": {
     "end_time": "2022-09-25T13:52:04.000705Z",
     "start_time": "2022-09-25T13:52:03.980693Z"
    }
   },
   "outputs": [
    {
     "data": {
      "text/plain": [
       "0.6606861117790929"
      ]
     },
     "execution_count": 136,
     "metadata": {},
     "output_type": "execute_result"
    }
   ],
   "source": [
    "metrics.accuracy_score(y_test, knn_test)"
   ]
  },
  {
   "cell_type": "markdown",
   "id": "dd6dd475",
   "metadata": {},
   "source": [
    "## Decision tree classifier"
   ]
  },
  {
   "cell_type": "code",
   "execution_count": 137,
   "id": "7c61a1c1",
   "metadata": {
    "ExecuteTime": {
     "end_time": "2022-09-25T14:15:36.663746Z",
     "start_time": "2022-09-25T13:52:47.977127Z"
    }
   },
   "outputs": [
    {
     "data": {
      "text/html": [
       "<style>#sk-container-id-5 {color: black;background-color: white;}#sk-container-id-5 pre{padding: 0;}#sk-container-id-5 div.sk-toggleable {background-color: white;}#sk-container-id-5 label.sk-toggleable__label {cursor: pointer;display: block;width: 100%;margin-bottom: 0;padding: 0.3em;box-sizing: border-box;text-align: center;}#sk-container-id-5 label.sk-toggleable__label-arrow:before {content: \"▸\";float: left;margin-right: 0.25em;color: #696969;}#sk-container-id-5 label.sk-toggleable__label-arrow:hover:before {color: black;}#sk-container-id-5 div.sk-estimator:hover label.sk-toggleable__label-arrow:before {color: black;}#sk-container-id-5 div.sk-toggleable__content {max-height: 0;max-width: 0;overflow: hidden;text-align: left;background-color: #f0f8ff;}#sk-container-id-5 div.sk-toggleable__content pre {margin: 0.2em;color: black;border-radius: 0.25em;background-color: #f0f8ff;}#sk-container-id-5 input.sk-toggleable__control:checked~div.sk-toggleable__content {max-height: 200px;max-width: 100%;overflow: auto;}#sk-container-id-5 input.sk-toggleable__control:checked~label.sk-toggleable__label-arrow:before {content: \"▾\";}#sk-container-id-5 div.sk-estimator input.sk-toggleable__control:checked~label.sk-toggleable__label {background-color: #d4ebff;}#sk-container-id-5 div.sk-label input.sk-toggleable__control:checked~label.sk-toggleable__label {background-color: #d4ebff;}#sk-container-id-5 input.sk-hidden--visually {border: 0;clip: rect(1px 1px 1px 1px);clip: rect(1px, 1px, 1px, 1px);height: 1px;margin: -1px;overflow: hidden;padding: 0;position: absolute;width: 1px;}#sk-container-id-5 div.sk-estimator {font-family: monospace;background-color: #f0f8ff;border: 1px dotted black;border-radius: 0.25em;box-sizing: border-box;margin-bottom: 0.5em;}#sk-container-id-5 div.sk-estimator:hover {background-color: #d4ebff;}#sk-container-id-5 div.sk-parallel-item::after {content: \"\";width: 100%;border-bottom: 1px solid gray;flex-grow: 1;}#sk-container-id-5 div.sk-label:hover label.sk-toggleable__label {background-color: #d4ebff;}#sk-container-id-5 div.sk-serial::before {content: \"\";position: absolute;border-left: 1px solid gray;box-sizing: border-box;top: 0;bottom: 0;left: 50%;z-index: 0;}#sk-container-id-5 div.sk-serial {display: flex;flex-direction: column;align-items: center;background-color: white;padding-right: 0.2em;padding-left: 0.2em;position: relative;}#sk-container-id-5 div.sk-item {position: relative;z-index: 1;}#sk-container-id-5 div.sk-parallel {display: flex;align-items: stretch;justify-content: center;background-color: white;position: relative;}#sk-container-id-5 div.sk-item::before, #sk-container-id-5 div.sk-parallel-item::before {content: \"\";position: absolute;border-left: 1px solid gray;box-sizing: border-box;top: 0;bottom: 0;left: 50%;z-index: -1;}#sk-container-id-5 div.sk-parallel-item {display: flex;flex-direction: column;z-index: 1;position: relative;background-color: white;}#sk-container-id-5 div.sk-parallel-item:first-child::after {align-self: flex-end;width: 50%;}#sk-container-id-5 div.sk-parallel-item:last-child::after {align-self: flex-start;width: 50%;}#sk-container-id-5 div.sk-parallel-item:only-child::after {width: 0;}#sk-container-id-5 div.sk-dashed-wrapped {border: 1px dashed gray;margin: 0 0.4em 0.5em 0.4em;box-sizing: border-box;padding-bottom: 0.4em;background-color: white;}#sk-container-id-5 div.sk-label label {font-family: monospace;font-weight: bold;display: inline-block;line-height: 1.2em;}#sk-container-id-5 div.sk-label-container {text-align: center;}#sk-container-id-5 div.sk-container {/* jupyter's `normalize.less` sets `[hidden] { display: none; }` but bootstrap.min.css set `[hidden] { display: none !important; }` so we also need the `!important` here to be able to override the default hidden behavior on the sphinx rendered scikit-learn.org. See: https://github.com/scikit-learn/scikit-learn/issues/21755 */display: inline-block !important;position: relative;}#sk-container-id-5 div.sk-text-repr-fallback {display: none;}</style><div id=\"sk-container-id-5\" class=\"sk-top-container\"><div class=\"sk-text-repr-fallback\"><pre>DecisionTreeClassifier()</pre><b>In a Jupyter environment, please rerun this cell to show the HTML representation or trust the notebook. <br />On GitHub, the HTML representation is unable to render, please try loading this page with nbviewer.org.</b></div><div class=\"sk-container\" hidden><div class=\"sk-item\"><div class=\"sk-estimator sk-toggleable\"><input class=\"sk-toggleable__control sk-hidden--visually\" id=\"sk-estimator-id-5\" type=\"checkbox\" checked><label for=\"sk-estimator-id-5\" class=\"sk-toggleable__label sk-toggleable__label-arrow\">DecisionTreeClassifier</label><div class=\"sk-toggleable__content\"><pre>DecisionTreeClassifier()</pre></div></div></div></div></div>"
      ],
      "text/plain": [
       "DecisionTreeClassifier()"
      ]
     },
     "execution_count": 137,
     "metadata": {},
     "output_type": "execute_result"
    }
   ],
   "source": [
    "from sklearn.tree import DecisionTreeClassifier\n",
    "dtree = DecisionTreeClassifier()\n",
    "dtree.fit(X_train_bow, y_train )"
   ]
  },
  {
   "cell_type": "code",
   "execution_count": 138,
   "id": "dfe604cf",
   "metadata": {
    "ExecuteTime": {
     "end_time": "2022-09-25T14:20:30.053365Z",
     "start_time": "2022-09-25T14:20:29.874791Z"
    }
   },
   "outputs": [],
   "source": [
    "dtree_test = dtree.predict(X_test_bow)"
   ]
  },
  {
   "cell_type": "code",
   "execution_count": 139,
   "id": "ab129d69",
   "metadata": {
    "ExecuteTime": {
     "end_time": "2022-09-25T14:20:59.361325Z",
     "start_time": "2022-09-25T14:20:59.340785Z"
    }
   },
   "outputs": [
    {
     "data": {
      "text/plain": [
       "0.7083936960767638"
      ]
     },
     "execution_count": 139,
     "metadata": {},
     "output_type": "execute_result"
    }
   ],
   "source": [
    "metrics.accuracy_score(y_test, dtree_test)"
   ]
  },
  {
   "cell_type": "markdown",
   "id": "961fefea",
   "metadata": {},
   "source": [
    "## Random forest classifier"
   ]
  },
  {
   "cell_type": "code",
   "execution_count": 140,
   "id": "7cc583db",
   "metadata": {
    "ExecuteTime": {
     "end_time": "2022-09-25T15:34:51.741147Z",
     "start_time": "2022-09-25T14:21:29.732978Z"
    }
   },
   "outputs": [
    {
     "data": {
      "text/html": [
       "<style>#sk-container-id-6 {color: black;background-color: white;}#sk-container-id-6 pre{padding: 0;}#sk-container-id-6 div.sk-toggleable {background-color: white;}#sk-container-id-6 label.sk-toggleable__label {cursor: pointer;display: block;width: 100%;margin-bottom: 0;padding: 0.3em;box-sizing: border-box;text-align: center;}#sk-container-id-6 label.sk-toggleable__label-arrow:before {content: \"▸\";float: left;margin-right: 0.25em;color: #696969;}#sk-container-id-6 label.sk-toggleable__label-arrow:hover:before {color: black;}#sk-container-id-6 div.sk-estimator:hover label.sk-toggleable__label-arrow:before {color: black;}#sk-container-id-6 div.sk-toggleable__content {max-height: 0;max-width: 0;overflow: hidden;text-align: left;background-color: #f0f8ff;}#sk-container-id-6 div.sk-toggleable__content pre {margin: 0.2em;color: black;border-radius: 0.25em;background-color: #f0f8ff;}#sk-container-id-6 input.sk-toggleable__control:checked~div.sk-toggleable__content {max-height: 200px;max-width: 100%;overflow: auto;}#sk-container-id-6 input.sk-toggleable__control:checked~label.sk-toggleable__label-arrow:before {content: \"▾\";}#sk-container-id-6 div.sk-estimator input.sk-toggleable__control:checked~label.sk-toggleable__label {background-color: #d4ebff;}#sk-container-id-6 div.sk-label input.sk-toggleable__control:checked~label.sk-toggleable__label {background-color: #d4ebff;}#sk-container-id-6 input.sk-hidden--visually {border: 0;clip: rect(1px 1px 1px 1px);clip: rect(1px, 1px, 1px, 1px);height: 1px;margin: -1px;overflow: hidden;padding: 0;position: absolute;width: 1px;}#sk-container-id-6 div.sk-estimator {font-family: monospace;background-color: #f0f8ff;border: 1px dotted black;border-radius: 0.25em;box-sizing: border-box;margin-bottom: 0.5em;}#sk-container-id-6 div.sk-estimator:hover {background-color: #d4ebff;}#sk-container-id-6 div.sk-parallel-item::after {content: \"\";width: 100%;border-bottom: 1px solid gray;flex-grow: 1;}#sk-container-id-6 div.sk-label:hover label.sk-toggleable__label {background-color: #d4ebff;}#sk-container-id-6 div.sk-serial::before {content: \"\";position: absolute;border-left: 1px solid gray;box-sizing: border-box;top: 0;bottom: 0;left: 50%;z-index: 0;}#sk-container-id-6 div.sk-serial {display: flex;flex-direction: column;align-items: center;background-color: white;padding-right: 0.2em;padding-left: 0.2em;position: relative;}#sk-container-id-6 div.sk-item {position: relative;z-index: 1;}#sk-container-id-6 div.sk-parallel {display: flex;align-items: stretch;justify-content: center;background-color: white;position: relative;}#sk-container-id-6 div.sk-item::before, #sk-container-id-6 div.sk-parallel-item::before {content: \"\";position: absolute;border-left: 1px solid gray;box-sizing: border-box;top: 0;bottom: 0;left: 50%;z-index: -1;}#sk-container-id-6 div.sk-parallel-item {display: flex;flex-direction: column;z-index: 1;position: relative;background-color: white;}#sk-container-id-6 div.sk-parallel-item:first-child::after {align-self: flex-end;width: 50%;}#sk-container-id-6 div.sk-parallel-item:last-child::after {align-self: flex-start;width: 50%;}#sk-container-id-6 div.sk-parallel-item:only-child::after {width: 0;}#sk-container-id-6 div.sk-dashed-wrapped {border: 1px dashed gray;margin: 0 0.4em 0.5em 0.4em;box-sizing: border-box;padding-bottom: 0.4em;background-color: white;}#sk-container-id-6 div.sk-label label {font-family: monospace;font-weight: bold;display: inline-block;line-height: 1.2em;}#sk-container-id-6 div.sk-label-container {text-align: center;}#sk-container-id-6 div.sk-container {/* jupyter's `normalize.less` sets `[hidden] { display: none; }` but bootstrap.min.css set `[hidden] { display: none !important; }` so we also need the `!important` here to be able to override the default hidden behavior on the sphinx rendered scikit-learn.org. See: https://github.com/scikit-learn/scikit-learn/issues/21755 */display: inline-block !important;position: relative;}#sk-container-id-6 div.sk-text-repr-fallback {display: none;}</style><div id=\"sk-container-id-6\" class=\"sk-top-container\"><div class=\"sk-text-repr-fallback\"><pre>RandomForestClassifier()</pre><b>In a Jupyter environment, please rerun this cell to show the HTML representation or trust the notebook. <br />On GitHub, the HTML representation is unable to render, please try loading this page with nbviewer.org.</b></div><div class=\"sk-container\" hidden><div class=\"sk-item\"><div class=\"sk-estimator sk-toggleable\"><input class=\"sk-toggleable__control sk-hidden--visually\" id=\"sk-estimator-id-6\" type=\"checkbox\" checked><label for=\"sk-estimator-id-6\" class=\"sk-toggleable__label sk-toggleable__label-arrow\">RandomForestClassifier</label><div class=\"sk-toggleable__content\"><pre>RandomForestClassifier()</pre></div></div></div></div></div>"
      ],
      "text/plain": [
       "RandomForestClassifier()"
      ]
     },
     "execution_count": 140,
     "metadata": {},
     "output_type": "execute_result"
    }
   ],
   "source": [
    "from sklearn.ensemble import RandomForestClassifier\n",
    "rfm = RandomForestClassifier()\n",
    "rfm.fit(X_train_bow,y_train )"
   ]
  },
  {
   "cell_type": "code",
   "execution_count": 141,
   "id": "594cadca",
   "metadata": {
    "ExecuteTime": {
     "end_time": "2022-09-25T15:37:31.548307Z",
     "start_time": "2022-09-25T15:37:18.234787Z"
    }
   },
   "outputs": [],
   "source": [
    "rfm_test = rfm.predict(X_test_bow)"
   ]
  },
  {
   "cell_type": "code",
   "execution_count": 142,
   "id": "1b78cbb2",
   "metadata": {
    "ExecuteTime": {
     "end_time": "2022-09-25T15:37:55.796846Z",
     "start_time": "2022-09-25T15:37:55.769885Z"
    }
   },
   "outputs": [
    {
     "data": {
      "text/plain": [
       "0.7891399848677689"
      ]
     },
     "execution_count": 142,
     "metadata": {},
     "output_type": "execute_result"
    }
   ],
   "source": [
    "metrics.accuracy_score(y_test, rfm_test)"
   ]
  },
  {
   "cell_type": "code",
   "execution_count": null,
   "id": "570ba83c",
   "metadata": {},
   "outputs": [],
   "source": []
  }
 ],
 "metadata": {
  "kernelspec": {
   "display_name": "Python 3 (ipykernel)",
   "language": "python",
   "name": "python3"
  },
  "language_info": {
   "codemirror_mode": {
    "name": "ipython",
    "version": 3
   },
   "file_extension": ".py",
   "mimetype": "text/x-python",
   "name": "python",
   "nbconvert_exporter": "python",
   "pygments_lexer": "ipython3",
   "version": "3.9.7"
  }
 },
 "nbformat": 4,
 "nbformat_minor": 5
}
